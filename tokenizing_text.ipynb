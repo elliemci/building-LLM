{
  "nbformat": 4,
  "nbformat_minor": 0,
  "metadata": {
    "colab": {
      "provenance": [],
      "mount_file_id": "1MuaN6qxPgOFdIJZCLV8o_0KFEAVORdNP",
      "authorship_tag": "ABX9TyPKCzgRhfFhRTvi7o5jl8Ot",
      "include_colab_link": true
    },
    "kernelspec": {
      "name": "python3",
      "display_name": "Python 3"
    },
    "language_info": {
      "name": "python"
    }
  },
  "cells": [
    {
      "cell_type": "markdown",
      "metadata": {
        "id": "view-in-github",
        "colab_type": "text"
      },
      "source": [
        "<a href=\"https://colab.research.google.com/github/elliemci/building-LLM/blob/main/tokenizing_text.ipynb\" target=\"_parent\"><img src=\"https://colab.research.google.com/assets/colab-badge.svg\" alt=\"Open In Colab\"/></a>"
      ]
    },
    {
      "cell_type": "markdown",
      "source": [
        "# Tokenization of Text Data"
      ],
      "metadata": {
        "id": "aR54wuszdRI4"
      }
    },
    {
      "cell_type": "code",
      "source": [
        "from google.colab import drive\n",
        "drive.mount(\"/content/drive\")"
      ],
      "metadata": {
        "id": "XfDRwY3O6KSD"
      },
      "execution_count": null,
      "outputs": []
    },
    {
      "cell_type": "code",
      "execution_count": null,
      "metadata": {
        "id": "1vcKNXhIIIyM",
        "colab": {
          "base_uri": "https://localhost:8080/"
        },
        "outputId": "c880193a-3d0b-4acd-94dc-d21d756d3ee6"
      },
      "outputs": [
        {
          "output_type": "stream",
          "name": "stdout",
          "text": [
            "pytorch_wormup.ipynb  the-verdict.txt\n"
          ]
        }
      ],
      "source": [
        "%cd /content/drive/MyDrive/Colab\\ Notebooks/LLM"
      ]
    },
    {
      "cell_type": "markdown",
      "source": [
        "Transform discrete text data like words into continuos vector space"
      ],
      "metadata": {
        "id": "ewPrpTb5ffmE"
      }
    },
    {
      "cell_type": "code",
      "source": [
        "with open(\"the-verdict.txt\", \"r\", encoding=\"utf-8\") as f:\n",
        "  raw_text = f.read()\n",
        "\n",
        "print(f\"Total number of characters inoriginal text including white spaces: {len(raw_text)}\")\n",
        "print(raw_text[:99])"
      ],
      "metadata": {
        "colab": {
          "base_uri": "https://localhost:8080/"
        },
        "id": "SOMor2bXKlJ-",
        "outputId": "6df1e572-3b02-445e-cc58-2177ac30123f"
      },
      "execution_count": null,
      "outputs": [
        {
          "output_type": "stream",
          "name": "stdout",
          "text": [
            "Total number of characters inoriginal text including white spaces: 20480\n",
            "I HAD always thought Jack Gisburn rather a cheap genius--though a good fellow enough--so it was no \n"
          ]
        }
      ]
    },
    {
      "cell_type": "markdown",
      "source": [
        "Brake raw text into tokens which can be words or characters, and convert these strings tokens into integer token IDs"
      ],
      "metadata": {
        "id": "uBP4ix-Pf5qe"
      }
    },
    {
      "cell_type": "markdown",
      "source": [
        "## Word Embedding"
      ],
      "metadata": {
        "id": "hkYTPlH0dLWu"
      }
    },
    {
      "cell_type": "code",
      "source": [
        "import re"
      ],
      "metadata": {
        "id": "_UjesENnNiUA"
      },
      "execution_count": null,
      "outputs": []
    },
    {
      "cell_type": "markdown",
      "source": [
        "A tokenization scheme that splits text into individual words and punctuation characters."
      ],
      "metadata": {
        "id": "uO7u5fi0cVjP"
      }
    },
    {
      "cell_type": "code",
      "source": [
        "# split a text on white spaces \\s, commas and periods, question marks,\n",
        "# underscore, explamation marks quoatation marks, and double dashes\n",
        "text = \"Hello, world! Is this-- a test?\"\n",
        "split_text = re.split(r'(\\s|[,.?_!\"()\\']|--)', text)\n",
        "print(split_text)"
      ],
      "metadata": {
        "colab": {
          "base_uri": "https://localhost:8080/"
        },
        "id": "Y9rsneXCNkk0",
        "outputId": "ff00aa15-ce0f-4279-e7da-8ca8a95d7717"
      },
      "execution_count": null,
      "outputs": [
        {
          "output_type": "stream",
          "name": "stdout",
          "text": [
            "['Hello', ',', '', ' ', 'world', '!', '', ' ', 'Is', ' ', 'this', '--', '', ' ', 'a', ' ', 'test', '?', '']\n"
          ]
        }
      ]
    },
    {
      "cell_type": "code",
      "source": [
        "# remove the whitespace characters\n",
        "split_text = [item.strip() for item in split_text if item.strip()]\n",
        "print(f\"split into {len(split_text)} individual tockens:\\n{split_text}\")"
      ],
      "metadata": {
        "colab": {
          "base_uri": "https://localhost:8080/"
        },
        "id": "hQGXlIzVPB8o",
        "outputId": "62370f16-8f7c-404c-cb87-ef604d23dd86"
      },
      "execution_count": null,
      "outputs": [
        {
          "output_type": "stream",
          "name": "stdout",
          "text": [
            "split into 10 individual tockens:\n",
            "['Hello', ',', 'world', '!', 'Is', 'this', '--', 'a', 'test', '?']\n"
          ]
        }
      ]
    },
    {
      "cell_type": "markdown",
      "source": [
        "### Apply Tokenizer to text"
      ],
      "metadata": {
        "id": "TRCDpCBkdbJl"
      }
    },
    {
      "cell_type": "code",
      "source": [
        "preprocessed = re.split(r'(\\s|[,.?_!\"()\\']|--)', raw_text)\n",
        "preprocessed = [item.strip() for item in preprocessed if item.strip()]\n",
        "print(f\"Total number of tokens, excluding white spaces: {len(preprocessed)}\")"
      ],
      "metadata": {
        "colab": {
          "base_uri": "https://localhost:8080/"
        },
        "id": "iJ_fq--QdgN2",
        "outputId": "a071dd8c-46c3-4654-d699-4cfb7d0cfe65"
      },
      "execution_count": null,
      "outputs": [
        {
          "output_type": "stream",
          "name": "stdout",
          "text": [
            "Total number of tokens, excluding white spaces: 4649\n"
          ]
        }
      ]
    },
    {
      "cell_type": "code",
      "source": [
        "# print the first 20 tokens\n",
        "print(f\"First 20 tokens:\\n{preprocessed[:20]}\")"
      ],
      "metadata": {
        "colab": {
          "base_uri": "https://localhost:8080/"
        },
        "id": "e1cn7w13e4oL",
        "outputId": "4ac64521-29b5-4381-f789-3b5d1be720b1"
      },
      "execution_count": null,
      "outputs": [
        {
          "output_type": "stream",
          "name": "stdout",
          "text": [
            "First 20 tokens:\n",
            "['I', 'HAD', 'always', 'thought', 'Jack', 'Gisburn', 'rather', 'a', 'cheap', 'genius', '--', 'though', 'a', 'good', 'fellow', 'enough', '--', 'so', 'it', 'was']\n"
          ]
        }
      ]
    },
    {
      "cell_type": "markdown",
      "source": [
        "## Map tockens into IDs"
      ],
      "metadata": {
        "id": "5Uv50Vw-gKE7"
      }
    },
    {
      "cell_type": "markdown",
      "source": [
        "Build a vocabulary by sorting alphabetially the individual tokens of the tokenized training text, and mapping each unique word and special character into a unique integer, which is called token ID"
      ],
      "metadata": {
        "id": "gFyZcTIngaDO"
      }
    },
    {
      "cell_type": "markdown",
      "source": [
        "### Vocabulary"
      ],
      "metadata": {
        "id": "LvvsO6vfhfPf"
      }
    },
    {
      "cell_type": "code",
      "source": [
        "# sorted the list of unique tokens\n",
        "sorted_tokens = sorted(list(set(preprocessed)))\n",
        "vocab_size = len(sorted_tokens)\n",
        "print(f\"Vacabulary size: {vocab_size}\")"
      ],
      "metadata": {
        "colab": {
          "base_uri": "https://localhost:8080/"
        },
        "id": "YANBgA42hyrb",
        "outputId": "e381ae6b-f2a3-4916-c244-bf91cf9fcd06"
      },
      "execution_count": null,
      "outputs": [
        {
          "output_type": "stream",
          "name": "stdout",
          "text": [
            "Vacabulary size: 1159\n"
          ]
        }
      ]
    },
    {
      "cell_type": "code",
      "source": [
        "# create vocabulary by mapping the alphabetically sorted list of tokens to unizque integers\n",
        "vocab = {token:integer for integer, token in enumerate(sorted_tokens)}\n",
        "# print the fist 50 tokens and their IDs\n",
        "[item for i,item in enumerate(vocab.items()) if i < 50]"
      ],
      "metadata": {
        "id": "th2JmJucimBT"
      },
      "execution_count": null,
      "outputs": []
    },
    {
      "cell_type": "markdown",
      "source": [
        "### Tokens into IDs"
      ],
      "metadata": {
        "id": "6O2vXF0LkGSR"
      }
    },
    {
      "cell_type": "code",
      "source": [
        "class TokenizerV1:\n",
        "  \"\"\" A tokenizer class with encode method that splits text\n",
        "      into tokens and carries out string-to-integer mapping\n",
        "      to produce token IDs via vocabulary \"\"\"\n",
        "\n",
        "  def __init__(self, vocab):\n",
        "      self.str_to_int = vocab\n",
        "      self.int_to_str = {i:s for s, i  in vocab.items()}\n",
        "\n",
        "  def encode(self, text):\n",
        "      preprocessed = re.split(r'(\\s|[,.?_!\"()\\']|--)', text)\n",
        "      preprocessed = [item.strip() for item in preprocessed if item.strip()]\n",
        "      ids = [self.str_to_int[s] for s in preprocessed]\n",
        "      return ids\n",
        "\n",
        "  def decode(self, ids):\n",
        "      text = \" \".join([self.int_to_str[i] for i in ids])\n",
        "      text = re.sub(r'\\s+([,.?!\"()\\'])', r'\\1', text)\n",
        "      return text\n"
      ],
      "metadata": {
        "id": "OK9rrmTYsw-N"
      },
      "execution_count": null,
      "outputs": []
    },
    {
      "cell_type": "code",
      "source": [
        "# instantiate a tokenizer object to tokenize a given text\n",
        "tokenizer = TokenizerV1(vocab)\n",
        "\n",
        "test_text1 = \"\"\"\"It's the last he painted, you know,\" Mrs. Gisburn said with pardonable pride.\"\"\"\n",
        "test_text2 = \"Hello, do you like tea?\"\n",
        "test_ids = tokenizer.encode(test_text1)\n",
        "\n",
        "print(f\"sample text: {test_text1}\")\n",
        "print(f\"encoded tokens: {test_ids}\")\n",
        "print(f\"decoded token: {tokenizer.decode(test_ids)}\")\n",
        "\n",
        "# N.B: A word not included in vocabulary raises an error"
      ],
      "metadata": {
        "colab": {
          "base_uri": "https://localhost:8080/"
        },
        "id": "QJjd6CVNwp7h",
        "outputId": "a7849d19-23f2-4378-f61b-f1bd03c78896"
      },
      "execution_count": null,
      "outputs": [
        {
          "output_type": "stream",
          "name": "stdout",
          "text": [
            "sample text: \"It's the last he painted, you know,\" Mrs. Gisburn said with pardonable pride.\n",
            "encoded tokens: [1, 58, 2, 872, 1013, 615, 541, 763, 5, 1155, 608, 5, 1, 69, 7, 39, 873, 1136, 773, 812, 7]\n",
            "decoded token: \" It' s the last he painted, you know,\" Mrs. Gisburn said with pardonable pride.\n"
          ]
        }
      ]
    },
    {
      "cell_type": "code",
      "source": [
        "test_text"
      ],
      "metadata": {
        "colab": {
          "base_uri": "https://localhost:8080/",
          "height": 35
        },
        "id": "sKPe0xdWxwWz",
        "outputId": "1fa9b9b0-a4fa-4b9b-b10e-709409f75f32"
      },
      "execution_count": null,
      "outputs": [
        {
          "output_type": "execute_result",
          "data": {
            "text/plain": [
              "'Hello, do you like tea?'"
            ],
            "application/vnd.google.colaboratory.intrinsic+json": {
              "type": "string"
            }
          },
          "metadata": {},
          "execution_count": 51
        }
      ]
    },
    {
      "cell_type": "code",
      "source": [
        "tokenizer.decode(test_ids)"
      ],
      "metadata": {
        "colab": {
          "base_uri": "https://localhost:8080/",
          "height": 268
        },
        "id": "RG_oDUNrxk7k",
        "outputId": "a365679b-0bd4-4116-d7e8-b9a4499bd267"
      },
      "execution_count": null,
      "outputs": [
        {
          "output_type": "execute_result",
          "data": {
            "text/plain": [
              "'I HAD always thought Jack Gisburn rather a cheap genius -- though a good fellow enough -- so it was no great surprise to me to hear that, in the height of his glory, he had dropped his painting, married a rich widow, and established himself in a villa on the Riviera.( Though I rather thought it would have been Rome or Florence.)\" The height of his glory\" -- that was what the women called it. I can hear Mrs. Gideon Thwing -- his last Chicago sitter -- deploring his unaccountable abdication.\" Of course it\\' s going to send the value of my picture\\' way up; but I don\\' t think of that, Mr. Rickham -- the loss to Arrt is all I think of.\" The word, on Mrs. Thwing\\' s lips, multiplied its _ rs _ as though they were reflected in an endless vista of mirrors. And it was not only the Mrs. Thwings who mourned. Had not the exquisite Hermia Croft, at the last Grafton Gallery show, stopped me before Gisburn\\' s\" Moon-dancers\" to say, with tears in her eyes:\" We shall not look upon its like again\"? Well! -- even through the prism of Hermia\\' s tears I felt able to face the fact with equanimity. Poor Jack Gisburn! The women had made him -- it was fitting that they should mourn him. Among his own sex fewer regrets were heard, and in his own trade hardly a murmur. Professional jealousy? Perhaps. If it were, the honour of the craft was vindicated by little Claude Nutley, who, in all good faith, brought out in the Burlington a very handsome\" obituary\" on Jack -- one of those showy articles stocked with random technicalities that I have heard( I won\\' t say by whom) compared to Gisburn\\' s painting. And so -- his resolve being apparently irrevocable -- the discussion gradually died out, and, as Mrs. Thwing had predicted, the price of\" Gisburns\" went up. It was not till three years later that, in the course of a few weeks\\' idling on the Riviera, it suddenly occurred to me to wonder why Gisburn had given up his painting. On reflection, it really was a tempting problem. To accuse his wife would have been too easy -- his fair sitters had been denied the solace of saying that Mrs. Gisburn had\" dragged him down.\" For Mrs. Gisburn -- as such -- had not existed till nearly a year after Jack\\' s resolve had been taken. It might be that he had married her -- since he liked his ease -- because he didn\\' t want to go on painting; but it would have been hard to prove that he had given up his painting because he had married her. Of course, if she had not dragged him down, she had equally, as Miss Croft contended, failed to\" lift him up\" -- she had not led him back to the easel. To put the brush into his hand again -- what a vocation for a wife! But Mrs. Gisburn appeared to have disdained it -- and I felt it might be interesting to find out why. The desultory life of the Riviera lends itself to such purely academic speculations; and having, on my way to Monte Carlo, caught a glimpse of Jack\\' s balustraded terraces between the pines, I had myself borne thither the next day. I found the couple at tea beneath their palm-trees; and Mrs. Gisburn\\' s welcome was so genial that, in the ensuing weeks, I claimed it frequently. It was not that my hostess was\" interesting\" : on that point I could have given Miss Croft the fullest reassurance. It was just because she was _ not _ interesting -- if I may be pardoned the bull -- that I found her so. For Jack, all his life, had been surrounded by interesting women: they had fostered his art, it had been reared in the hot-house of their adulation. And it was therefore instructive to note what effect the\" deadening atmosphere of mediocrity\"( I quote Miss Croft) was having on him. I have mentioned that Mrs. Gisburn was rich; and it was immediately perceptible that her husband was extracting from this circumstance a delicate but substantial satisfaction. It is, as a rule, the people who scorn money who get most out of it; and Jack\\' s elegant disdain of his wife\\' s big balance enabled him, with an appearance of perfect good-breeding, to transmute it into objects of art and luxury. To the latter, I must add, he remained relatively indifferent; but he was buying Renaissance bronzes and eighteenth-century pictures with a discrimination that bespoke the amplest resources.\" Money\\' s only excuse is to put beauty into circulation,\" was one of the axioms he laid down across the Sevres and silver of an exquisitely appointed luncheon-table, when, on a later day, I had again run over from Monte Carlo; and Mrs. Gisburn, beaming on him, added for my enlightenment:\" Jack is so morbidly sensitive to every form of beauty.\" Poor Jack! It had always been his fate to have women say such things of him: the fact should be set down in extenuation. What struck me now was that, for the first time, he resented the tone. I had seen him, so often, basking under similar tributes -- was it the conjugal note that robbed them of their savour? No -- for, oddly enough, it became apparent that he was fond of Mrs. Gisburn -- fond enough not to see her absurdity. It was his own absurdity he seemed to be wincing under -- his own attitude as an object for garlands and incense.\" My dear, since I\\' ve chucked painting people don\\' t say that stuff about me -- they say it about Victor Grindle,\" was his only protest, as he rose from the table and strolled out onto the sunlit terrace. I glanced after him, struck by his last word. Victor Grindle was, in fact, becoming the man of the moment -- as Jack himself, one might put it, had been the man of the hour. The younger artist was said to have formed himself at my friend\\' s feet, and I wondered if a tinge of jealousy underlay the latter\\' s mysterious abdication. But no -- for it was not till after that event that the _ rose Dubarry _ drawing-rooms had begun to display their\" Grindles.\" I turned to Mrs. Gisburn, who had lingered to give a lump of sugar to her spaniel in the dining-room.\" Why _ has _ he chucked painting?\" I asked abruptly. She raised her eyebrows with a hint of good-humoured surprise.\" Oh, he doesn\\' t _ have _ to now, you know; and I want him to enjoy himself,\" she said quite simply. I looked about the spacious white-panelled room, with its _ famille-verte _ vases repeating the tones of the pale damask curtains, and its eighteenth-century pastels in delicate faded frames.\" Has he chucked his pictures too? I haven\\' t seen a single one in the house.\" A slight shade of constraint crossed Mrs. Gisburn\\' s open countenance.\" It\\' s his ridiculous modesty, you know. He says they\\' re not fit to have about; he\\' s sent them all away except one -- my portrait -- and that I have to keep upstairs.\" His ridiculous modesty -- Jack\\' s modesty about his pictures? My curiosity was growing like the bean-stalk. I said persuasively to my hostess:\" I must really see your portrait, you know.\" She glanced out almost timorously at the terrace where her husband, lounging in a hooded chair, had lit a cigar and drawn the Russian deerhound\\' s head between his knees.\" Well, come while he\\' s not looking,\" she said, with a laugh that tried to hide her nervousness; and I followed her between the marble Emperors of the hall, and up the wide stairs with terra-cotta nymphs poised among flowers at each landing. In the dimmest corner of her boudoir, amid a profusion of delicate and distinguished objects, hung one of the familiar oval canvases, in the inevitable garlanded frame. The mere outline of the frame called up all Gisburn\\' s past! Mrs. Gisburn drew back the window-curtains, moved aside a _ jardiniere _ full of pink azaleas, pushed an arm-chair away, and said:\" If you stand here you can just manage to see it. I had it over the mantel-piece, but he wouldn\\' t let it stay.\" Yes -- I could just manage to see it -- the first portrait of Jack\\' s I had ever had to strain my eyes over! Usually they had the place of honour -- say the central panel in a pale yellow or _ rose Dubarry _ drawing-room, or a monumental easel placed so that it took the light through curtains of old Venetian point. The more modest place became the picture better; yet, as my eyes grew accustomed to the half-light, all the characteristic qualities came out -- all the hesitations disguised as audacities, the tricks of prestidigitation by which, with such consummate skill, he managed to divert attention from the real business of the picture to some pretty irrelevance of detail. Mrs. Gisburn, presenting a neutral surface to work on -- forming, as it were, so inevitably the background of her own picture -- had lent herself in an unusual degree to the display of this false virtuosity. The picture was one of Jack\\' s\" strongest,\" as his admirers would have put it -- it represented, on his part, a swelling of muscles, a congesting of veins, a balancing, straddling and straining, that reminded one of the circus-clown\\' s ironic efforts to lift a feather. It met, in short, at every point the demand of lovely woman to be painted\" strongly\" because she was tired of being painted\" sweetly\" -- and yet not to lose an atom of the sweetness.\" It\\' s the last he painted, you know,\" Mrs. Gisburn said with pardonable pride.\" The last but one,\" she corrected herself --\" but the other doesn\\' t count, because he destroyed it.\"\" Destroyed it?\" I was about to follow up this clue when I heard a footstep and saw Jack himself on the threshold. As he stood there, his hands in the pockets of his velveteen coat, the thin brown waves of hair pushed back from his white forehead, his lean sunburnt cheeks furrowed by a smile that lifted the tips of a self-confident moustache, I felt to what a degree he had the same quality as his pictures -- the quality of looking cleverer than he was. His wife glanced at him deprecatingly, but his eyes travelled past her to the portrait.\" Mr. Rickham wanted to see it,\" she began, as if excusing herself. He shrugged his shoulders, still smiling.\" Oh, Rickham found me out long ago,\" he said lightly; then, passing his arm through mine:\" Come and see the rest of the house.\" He showed it to me with a kind of naive suburban pride: the bath-rooms, the speaking-tubes, the dress-closets, the trouser-presses -- all the complex simplifications of the millionaire\\' s domestic economy. And whenever my wonder paid the expected tribute he said, throwing out his chest a little:\" Yes, I really don\\' t see how people manage to live without that.\" Well -- it was just the end one might have foreseen for him. Only he was, through it all and in spite of it all -- as he had been through, and in spite of, his pictures -- so handsome, so charming, so disarming, that one longed to cry out:\" Be dissatisfied with your leisure!\" as once one had longed to say:\" Be dissatisfied with your work!\" But, with the cry on my lips, my diagnosis suffered an unexpected check.\" This is my own lair,\" he said, leading me into a dark plain room at the end of the florid vista. It was square and brown and leathery: no\" effects\" ; no bric-a-brac, none of the air of posing for reproduction in a picture weekly -- above all, no least sign of ever having been used as a studio. The fact brought home to me the absolute finality of Jack\\' s break with his old life.\" Don\\' t you ever dabble with paint any more?\" I asked, still looking about for a trace of such activity.\" Never,\" he said briefly.\" Or water-colour -- or etching?\" His confident eyes grew dim, and his cheeks paled a little under their handsome sunburn.\" Never think of it, my dear fellow -- any more than if I\\' d never touched a brush.\" And his tone told me in a flash that he never thought of anything else. I moved away, instinctively embarrassed by my unexpected discovery; and as I turned, my eye fell on a small picture above the mantel-piece -- the only object breaking the plain oak panelling of the room.\" Oh, by Jove!\" I said. It was a sketch of a donkey -- an old tired donkey, standing in the rain under a wall.\" By Jove -- a Stroud!\" I cried. He was silent; but I felt him close behind me, breathing a little quickly.\" What a wonder! Made with a dozen lines -- but on everlasting foundations. You lucky chap, where did you get it?\" He answered slowly:\" Mrs. Stroud gave it to me.\"\" Ah -- I didn\\' t know you even knew the Strouds. He was such an inflexible hermit.\"\" I didn\\' t -- till after.... She sent for me to paint him when he was dead.\"\" When he was dead? You?\" I must have let a little too much amazement escape through my surprise, for he answered with a deprecating laugh:\" Yes -- she\\' s an awful simpleton, you know, Mrs. Stroud. Her only idea was to have him done by a fashionable painter -- ah, poor Stroud! She thought it the surest way of proclaiming his greatness -- of forcing it on a purblind public. And at the moment I was _ the _ fashionable painter.\"\" Ah, poor Stroud -- as you say. Was _ that _ his history?\"\" That was his history. She believed in him, gloried in him -- or thought she did. But she couldn\\' t bear not to have all the drawing-rooms with her. She couldn\\' t bear the fact that, on varnishing days, one could always get near enough to see his pictures. Poor woman! She\\' s just a fragment groping for other fragments. Stroud is the only whole I ever knew.\"\" You ever knew? But you just said --\" Gisburn had a curious smile in his eyes.\" Oh, I knew him, and he knew me -- only it happened after he was dead.\" I dropped my voice instinctively.\" When she sent for you?\"\" Yes -- quite insensible to the irony. She wanted him vindicated -- and by me!\" He laughed again, and threw back his head to look up at the sketch of the donkey.\" There were days when I couldn\\' t look at that thing -- couldn\\' t face it. But I forced myself to put it here; and now it\\' s cured me -- cured me. That\\' s the reason why I don\\' t dabble any more, my dear Rickham; or rather Stroud himself is the reason.\" For the first time my idle curiosity about my companion turned into a serious desire to understand him better.\" I wish you\\' d tell me how it happened,\" I said. He stood looking up at the sketch, and twirling between his fingers a cigarette he had forgotten to light. Suddenly he turned toward me.\" I\\' d rather like to tell you -- because I\\' ve always suspected you of loathing my work.\" I made a deprecating gesture, which he negatived with a good-humoured shrug.\" Oh, I didn\\' t care a straw when I believed in myself -- and now it\\' s an added tie between us!\" He laughed slightly, without bitterness, and pushed one of the deep arm-chairs forward.\" There: make yourself comfortable -- and here are the cigars you like.\" He placed them at my elbow and continued to wander up and down the room, stopping now and then beneath the picture.\" How it happened? I can tell you in five minutes -- and it didn\\' t take much longer to happen.... I can remember now how surprised and pleased I was when I got Mrs. Stroud\\' s note. Of course, deep down, I had always _ felt _ there was no one like him -- only I had gone with the stream, echoed the usual platitudes about him, till I half got to think he was a failure, one of the kind that are left behind. By Jove, and he _ was _ left behind -- because he had come to stay! The rest of us had to let ourselves be swept along or go under, but he was high above the current -- on everlasting foundations, as you say.\" Well, I went off to the house in my most egregious mood -- rather moved, Lord forgive me, at the pathos of poor Stroud\\' s career of failure being crowned by the glory of my painting him! Of course I meant to do the picture for nothing -- I told Mrs. Stroud so when she began to stammer something about her poverty. I remember getting off a prodigious phrase about the honour being _ mine _ -- oh, I was princely, my dear Rickham! I was posing to myself like one of my own sitters.\" Then I was taken up and left alone with him. I had sent all my traps in advance, and I had only to set up the easel and get to work. He had been dead only twenty-four hours, and he died suddenly, of heart disease, so that there had been no preliminary work of destruction -- his face was clear and untouched. I had met him once or twice, years before, and thought him insignificant and dingy. Now I saw that he was superb.\" I was glad at first, with a merely aesthetic satisfaction: glad to have my hand on such a\\' subject.\\' Then his strange life-likeness began to affect me queerly -- as I blocked the head in I felt as if he were watching me do it. The sensation was followed by the thought: if he _ were _ watching me, what would he say to my way of working? My strokes began to go a little wild -- I felt nervous and uncertain.\" Once, when I looked up, I seemed to see a smile behind his close grayish beard -- as if he had the secret, and were amusing himself by holding it back from me. That exasperated me still more. The secret? Why, I had a secret worth twenty of his! I dashed at the canvas furiously, and tried some of my bravura tricks. But they failed me, they crumbled. I saw that he wasn\\' t watching the showy bits -- I couldn\\' t distract his attention; he just kept his eyes on the hard passages between. Those were the ones I had always shirked, or covered up with some lying paint. And how he saw through my lies!\" I looked up again, and caught sight of that sketch of the donkey hanging on the wall near his bed. His wife told me afterward it was the last thing he had done -- just a note taken with a shaking hand, when he was down in Devonshire recovering from a previous heart attack. Just a note! But it tells his whole history. There are years of patient scornful persistence in every line. A man who had swum with the current could never have learned that mighty up-stream stroke....\" I turned back to my work, and went on groping and muddling; then I looked at the donkey again. I saw that, when Stroud laid in the first stroke, he knew just what the end would be. He had possessed his subject, absorbed it, recreated it. When had I done that with any of my things? They hadn\\' t been born of me -- I had just adopted them....\" Hang it, Rickham, with that face watching me I couldn\\' t do another stroke. The plain truth was, I didn\\' t know where to put it -- _ I had never known _. Only, with my sitters and my public, a showy splash of colour covered up the fact -- I just threw paint into their faces.... Well, paint was the one medium those dead eyes could see through -- see straight to the tottering foundations underneath. Don\\' t you know how, in talking a foreign language, even fluently, one says half the time not what one wants to but what one can? Well -- that was the way I painted; and as he lay there and watched me, the thing they called my\\' technique\\' collapsed like a house of cards. He didn\\' t sneer, you understand, poor Stroud -- he just lay there quietly watching, and on his lips, through the gray beard, I seemed to hear the question:\\' Are you sure you know where you\\' re coming out?\\'\" If I could have painted that face, with that question on it, I should have done a great thing. The next greatest thing was to see that I couldn\\' t -- and that grace was given me. But, oh, at that minute, Rickham, was there anything on earth I wouldn\\' t have given to have Stroud alive before me, and to hear him say:\\' It\\' s not too late -- I\\' ll show you how\\'?\" It _ was _ too late -- it would have been, even if he\\' d been alive. I packed up my traps, and went down and told Mrs. Stroud. Of course I didn\\' t tell her _ that _ -- it would have been Greek to her. I simply said I couldn\\' t paint him, that I was too moved. She rather liked the idea -- she\\' s so romantic! It was that that made her give me the donkey. But she was terribly upset at not getting the portrait -- she did so want him\\' done\\' by some one showy! At first I was afraid she wouldn\\' t let me off -- and at my wits\\' end I suggested Grindle. Yes, it was I who started Grindle: I told Mrs. Stroud he was the\\' coming\\' man, and she told somebody else, and so it got to be true.... And he painted Stroud without wincing; and she hung the picture among her husband\\' s things....\" He flung himself down in the arm-chair near mine, laid back his head, and clasping his arms beneath it, looked up at the picture above the chimney-piece.\" I like to fancy that Stroud himself would have given it to me, if he\\' d been able to say what he thought that day.\" And, in answer to a question I put half-mechanically --\" Begin again?\" he flashed out.\" When the one thing that brings me anywhere near him is that I knew enough to leave off?\" He stood up and laid his hand on my shoulder with a laugh.\" Only the irony of it is that I _ am _ still painting -- since Grindle\\' s doing it for me! The Strouds stand alone, and happen once -- but there\\' s no exterminating our kind of art.\"'"
            ],
            "application/vnd.google.colaboratory.intrinsic+json": {
              "type": "string"
            }
          },
          "metadata": {},
          "execution_count": 53
        }
      ]
    },
    {
      "cell_type": "markdown",
      "source": [
        "#### Special Context Tokens"
      ],
      "metadata": {
        "id": "q0uc9TRg0H92"
      }
    },
    {
      "cell_type": "markdown",
      "source": [
        "Modify the Vocabbulary and the Tokenizer adding special tokens <|endoftext|> <|unk|> marking document boundeies and unknown words"
      ],
      "metadata": {
        "id": "SDWhKfsiwYPi"
      }
    },
    {
      "cell_type": "markdown",
      "source": [
        "#### Extend Vocabulary"
      ],
      "metadata": {
        "id": "1EwBVURYx2nl"
      }
    },
    {
      "cell_type": "code",
      "source": [
        "# add special tokens to vocabulary buldt on training text\n",
        "sorted_tokens = sorted(list(set(preprocessed)))\n",
        "sorted_tokens.extend([\"<|endoftext|>\", \"<|unk|>\"])\n",
        "vocab = {token:integer for integer, token in enumerate(sorted_tokens)}\n",
        "#vocab_size = len(sorted_tokens)\n",
        "print(f\"Vacabulary size: {len(vocab.items())}\")"
      ],
      "metadata": {
        "id": "KDzQQNP7x9NU"
      },
      "execution_count": null,
      "outputs": []
    },
    {
      "cell_type": "code",
      "source": [
        "# print the last 5 entries of the updated vocab\n",
        " [item for i, item in enumerate(list(vocab.items())[-5:])]"
      ],
      "metadata": {
        "id": "sEbqZqTLzMoj"
      },
      "execution_count": null,
      "outputs": []
    },
    {
      "cell_type": "markdown",
      "source": [
        "## Tokenizer that handles unknown words"
      ],
      "metadata": {
        "id": "Dhm0vHA70h0u"
      }
    },
    {
      "cell_type": "code",
      "source": [
        "class TokenizerV2:\n",
        "  \"\"\" A tokenizer class with encode method that splits text\n",
        "      into tokens and carries out string-to-integer mapping\n",
        "      to produce token IDs via vocabulary. It replaces unknown\n",
        "      words by <|unk|> token. \"\"\"\n",
        "\n",
        "  def __init__(self, vocab):\n",
        "      self.str_to_int = vocab\n",
        "      self.int_to_str = {i:s for s, i  in vocab.items()}\n",
        "\n",
        "  def encode(self, text):\n",
        "      preprocessed = re.split(r'(\\s|[,.?_!\"()\\']|--)', text)\n",
        "      preprocessed = [item.strip() for item in preprocessed if item.strip()]\n",
        "      ids = [self.str_to_int[s] for s in preprocessed]\n",
        "      return ids\n",
        "\n",
        "  def decode(self, ids):\n",
        "      text = \" \".join([self.int_to_str[i] for i in ids])\n",
        "      text = re.sub(r'\\s+([,.?!\"()\\'])', r'\\1', text)\n",
        "      return text"
      ],
      "metadata": {
        "id": "fakw_NEH0sEb"
      },
      "execution_count": null,
      "outputs": []
    },
    {
      "cell_type": "code",
      "source": [
        "# test the tokenazier on sample text\n",
        "text1 = \"Hello, do you like tea?\"\n",
        "text2 = \"In the sunlit terraces of the palace.\"\n",
        "text = \" <|endoftext|> \".join((text1, text2))\n",
        "\n",
        "print(f\"Sample text:\\n{text}\")\n",
        "\n",
        "tokenizer = SimpleTokenizerV2(vocab)\n",
        "\n",
        "print(f\"Tokenized text:\\n{tokenizer.encode(text)}\"\n",
        ")\n",
        "print(f\"De-tokenized text:\\n{tokenizer.decode(tokenizer.encode(text))}\")"
      ],
      "metadata": {
        "id": "7bCJ3YiA1dOB"
      },
      "execution_count": null,
      "outputs": []
    },
    {
      "cell_type": "markdown",
      "source": [
        "## Byte Pair Encoding"
      ],
      "metadata": {
        "id": "W4pCmyku4gqc"
      }
    },
    {
      "cell_type": "markdown",
      "source": [
        "BPE builds its vocabulary by iteratively merging frequent characters into subwords and frequent subwords into words"
      ],
      "metadata": {
        "id": "WP0IIqOn9jmm"
      }
    },
    {
      "cell_type": "code",
      "source": [
        "!pip install tiktoken"
      ],
      "metadata": {
        "id": "R4jEqUEw5uq7"
      },
      "execution_count": null,
      "outputs": []
    },
    {
      "cell_type": "code",
      "source": [
        "import importlib\n",
        "import tiktoken\n",
        "print(\"tiktoken version:\", importlib.metadata.version(\"tiktoken\"))"
      ],
      "metadata": {
        "id": "Gabp8c9D56hg"
      },
      "execution_count": null,
      "outputs": []
    },
    {
      "cell_type": "code",
      "source": [
        "# instantiate BPE tokenizer from tiktoken\n",
        "tokenizer = tiktoken.get_encoding(\"gpt2\")"
      ],
      "metadata": {
        "id": "DXFWCnh46DrX"
      },
      "execution_count": null,
      "outputs": []
    },
    {
      "cell_type": "markdown",
      "source": [
        "BPE tokenizer usd to train models like GPT-2, GPR-3 and ChatGPT has a vocabulary size of 50,257, with <|endoftext|> being assigned the largest token ID"
      ],
      "metadata": {
        "id": "CF2QW_Pg7uSe"
      }
    },
    {
      "cell_type": "code",
      "source": [
        "text = \"Hello, do you like tea? <|endoftext|> In the sunlit terraces of someunknownPlace.\"\n",
        "integers = tokenizer.encode(text, allowed_special={\"<|endoftext|>\"})\n",
        "\n",
        "print(f\"Token IDs:\\n{integers}\")\n",
        "\n",
        "strings = tokenizer.decode(integers)\n",
        "\n",
        "print(f\"De-tokenizedtext:\\n{strings}\")"
      ],
      "metadata": {
        "id": "pytWldF86ues"
      },
      "execution_count": null,
      "outputs": []
    },
    {
      "cell_type": "markdown",
      "source": [
        "The algorithm underlying BPE breaks down words that aren't in its predefined vocabulary into smaller subword units or even individual characters, enabling it to handle out-of-vocabulary words, which ensures that the tokenizer, and consequently the LLM that is trained with it, can process any text, even if it contains words that were not present in its training data."
      ],
      "metadata": {
        "id": "n83gazEz8Tb3"
      }
    },
    {
      "cell_type": "code",
      "source": [
        "# test BPE tokenizer on the uknown word \"Akwirw ier\"\n",
        "text = \"Akwirw ier\"\n",
        "integers = tokenizer.encode(text)\n",
        "\n",
        "print(f\"Token IDs:\\n{integers}\")\n",
        "\n",
        "strings = tokenizer.decode(integers)\n",
        "\n",
        "print(f\"De-tokenizedtext:\\n{strings}\")"
      ],
      "metadata": {
        "id": "u0WskrGL8-5r"
      },
      "execution_count": null,
      "outputs": []
    }
  ]
}