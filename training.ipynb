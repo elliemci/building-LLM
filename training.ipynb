{
  "nbformat": 4,
  "nbformat_minor": 0,
  "metadata": {
    "colab": {
      "provenance": [],
      "authorship_tag": "ABX9TyNhvTP0+a9Gash8bO+n3Reb",
      "include_colab_link": true
    },
    "kernelspec": {
      "name": "python3",
      "display_name": "Python 3"
    },
    "language_info": {
      "name": "python"
    }
  },
  "cells": [
    {
      "cell_type": "markdown",
      "metadata": {
        "id": "view-in-github",
        "colab_type": "text"
      },
      "source": [
        "<a href=\"https://colab.research.google.com/github/elliemci/building-LLM/blob/main/training.ipynb\" target=\"_parent\"><img src=\"https://colab.research.google.com/assets/colab-badge.svg\" alt=\"Open In Colab\"/></a>"
      ]
    },
    {
      "cell_type": "markdown",
      "source": [
        "# Pretraining on Unlabeled Data"
      ],
      "metadata": {
        "id": "rbJI0l4KAAgy"
      }
    },
    {
      "cell_type": "code",
      "execution_count": null,
      "metadata": {
        "id": "Vt7DBuxV_vZP",
        "colab": {
          "base_uri": "https://localhost:8080/"
        },
        "outputId": "de5931a7-fdeb-49fb-bda7-04cdd1a5812d"
      },
      "outputs": [
        {
          "output_type": "stream",
          "name": "stdout",
          "text": [
            "Mounted at /content/drive\n"
          ]
        }
      ],
      "source": [
        "from google.colab import drive\n",
        "drive.mount(\"/content/drive\")"
      ]
    },
    {
      "cell_type": "code",
      "source": [
        "%cd /content/drive/MyDrive/Colab\\ Notebooks/LLM\n",
        "%ls"
      ],
      "metadata": {
        "id": "GxHjUN8ZAPNd",
        "colab": {
          "base_uri": "https://localhost:8080/"
        },
        "outputId": "a6f59643-f7a0-4488-d1da-d37a5203c938"
      },
      "execution_count": null,
      "outputs": [
        {
          "output_type": "stream",
          "name": "stdout",
          "text": [
            "/content/drive/MyDrive/Colab Notebooks/LLM\n",
            "attention_comp.ipynb      gpt_model.png                  sliding_window_sampling.py  training.ipynb\n",
            "attention_comp.py         \u001b[0m\u001b[01;34m__pycache__\u001b[0m/                   the-verdict.txt\n",
            "gpt_implementation.ipynb  pytorch_wormup.ipynb           token_embedding.ipynb\n",
            "gpt_implementation.py     sliding_window_sampling.ipynb  tokenizing_text.ipynb\n"
          ]
        }
      ]
    },
    {
      "cell_type": "code",
      "source": [
        "!pip install tiktoken"
      ],
      "metadata": {
        "colab": {
          "base_uri": "https://localhost:8080/"
        },
        "id": "wLGf4yhxO2lM",
        "outputId": "6728f834-6147-4519-f262-c87c0a04f981"
      },
      "execution_count": null,
      "outputs": [
        {
          "output_type": "stream",
          "name": "stdout",
          "text": [
            "Collecting tiktoken\n",
            "  Downloading tiktoken-0.6.0-cp310-cp310-manylinux_2_17_x86_64.manylinux2014_x86_64.whl (1.8 MB)\n",
            "\u001b[?25l     \u001b[90m━━━━━━━━━━━━━━━━━━━━━━━━━━━━━━━━━━━━━━━━\u001b[0m \u001b[32m0.0/1.8 MB\u001b[0m \u001b[31m?\u001b[0m eta \u001b[36m-:--:--\u001b[0m\r\u001b[2K     \u001b[91m━━━━━━\u001b[0m\u001b[90m╺\u001b[0m\u001b[90m━━━━━━━━━━━━━━━━━━━━━━━━━━━━━━━━━\u001b[0m \u001b[32m0.3/1.8 MB\u001b[0m \u001b[31m8.1 MB/s\u001b[0m eta \u001b[36m0:00:01\u001b[0m\r\u001b[2K     \u001b[91m━━━━━━━━━━━━━━━━━\u001b[0m\u001b[90m╺\u001b[0m\u001b[90m━━━━━━━━━━━━━━━━━━━━━━\u001b[0m \u001b[32m0.8/1.8 MB\u001b[0m \u001b[31m11.5 MB/s\u001b[0m eta \u001b[36m0:00:01\u001b[0m\r\u001b[2K     \u001b[91m━━━━━━━━━━━━━━━━━━━━━━━━━━━━━━\u001b[0m\u001b[91m╸\u001b[0m\u001b[90m━━━━━━━━━\u001b[0m \u001b[32m1.4/1.8 MB\u001b[0m \u001b[31m13.9 MB/s\u001b[0m eta \u001b[36m0:00:01\u001b[0m\r\u001b[2K     \u001b[91m━━━━━━━━━━━━━━━━━━━━━━━━━━━━━━━━━━━━━━━\u001b[0m\u001b[91m╸\u001b[0m \u001b[32m1.8/1.8 MB\u001b[0m \u001b[31m14.7 MB/s\u001b[0m eta \u001b[36m0:00:01\u001b[0m\r\u001b[2K     \u001b[90m━━━━━━━━━━━━━━━━━━━━━━━━━━━━━━━━━━━━━━━━\u001b[0m \u001b[32m1.8/1.8 MB\u001b[0m \u001b[31m13.0 MB/s\u001b[0m eta \u001b[36m0:00:00\u001b[0m\n",
            "\u001b[?25hRequirement already satisfied: regex>=2022.1.18 in /usr/local/lib/python3.10/dist-packages (from tiktoken) (2023.12.25)\n",
            "Requirement already satisfied: requests>=2.26.0 in /usr/local/lib/python3.10/dist-packages (from tiktoken) (2.31.0)\n",
            "Requirement already satisfied: charset-normalizer<4,>=2 in /usr/local/lib/python3.10/dist-packages (from requests>=2.26.0->tiktoken) (3.3.2)\n",
            "Requirement already satisfied: idna<4,>=2.5 in /usr/local/lib/python3.10/dist-packages (from requests>=2.26.0->tiktoken) (3.7)\n",
            "Requirement already satisfied: urllib3<3,>=1.21.1 in /usr/local/lib/python3.10/dist-packages (from requests>=2.26.0->tiktoken) (2.0.7)\n",
            "Requirement already satisfied: certifi>=2017.4.17 in /usr/local/lib/python3.10/dist-packages (from requests>=2.26.0->tiktoken) (2024.2.2)\n",
            "Installing collected packages: tiktoken\n",
            "Successfully installed tiktoken-0.6.0\n"
          ]
        }
      ]
    },
    {
      "cell_type": "code",
      "source": [
        "! jupyter nbconvert --to python gpt_implementation.ipynb"
      ],
      "metadata": {
        "id": "YwB6vnQNAoUB",
        "colab": {
          "base_uri": "https://localhost:8080/"
        },
        "outputId": "3f6a0161-7aff-42df-9093-12c926f4fc83"
      },
      "execution_count": null,
      "outputs": [
        {
          "output_type": "stream",
          "name": "stdout",
          "text": [
            "[NbConvertApp] Converting notebook gpt_implementation.ipynb to python\n",
            "[NbConvertApp] Writing 18539 bytes to gpt_implementation.py\n"
          ]
        }
      ]
    },
    {
      "cell_type": "code",
      "source": [
        "! jupyter nbconvert --to python sliding_window_sampling.ipynb"
      ],
      "metadata": {
        "colab": {
          "base_uri": "https://localhost:8080/"
        },
        "id": "MbQjwgFsO6YF",
        "outputId": "8455d997-95cc-4e98-d929-6205cb45d190"
      },
      "execution_count": null,
      "outputs": [
        {
          "output_type": "stream",
          "name": "stdout",
          "text": [
            "[NbConvertApp] Converting notebook sliding_window_sampling.ipynb to python\n",
            "[NbConvertApp] Writing 4643 bytes to sliding_window_sampling.py\n"
          ]
        }
      ]
    },
    {
      "cell_type": "code",
      "source": [
        "import torch\n",
        "\n",
        "GPT_CONFIG_124M = {\n",
        "    \"vocab_size\": 50257,\n",
        "    \"context_length\": 256,\n",
        "    \"emb_dim\": 768,\n",
        "    \"n_heads\": 12,\n",
        "    \"n_layers\": 12,\n",
        "    \"drop_rate\": 0.1,\n",
        "    \"qkv_bias\": False}"
      ],
      "metadata": {
        "id": "9xEFmzluAz-U"
      },
      "execution_count": null,
      "outputs": []
    },
    {
      "cell_type": "code",
      "source": [
        "from gpt_implementation import GPTModel\n",
        "\n",
        "torch.manual_seed(123)\n",
        "\n",
        "model = GPTModel(GPT_CONFIG_124M)\n",
        "model.eval()"
      ],
      "metadata": {
        "id": "9SXDBgTiU0yE"
      },
      "execution_count": null,
      "outputs": []
    },
    {
      "cell_type": "markdown",
      "source": [
        "## Model Evaluation"
      ],
      "metadata": {
        "id": "66St7yxZPh41"
      }
    },
    {
      "cell_type": "markdown",
      "source": [
        "### Text Generation"
      ],
      "metadata": {
        "id": "E5AnCKwjMGRh"
      }
    },
    {
      "cell_type": "markdown",
      "source": [
        "Three-step text generation process:\n",
        "1. Convert input text into a series of token IDs\n",
        "2. Model generates coresponding logits, probability distribution for each token in the vocabulary\n",
        "3. Convert logits back into token IDs, decoded with tokenizer into text"
      ],
      "metadata": {
        "id": "PlTanU-8M7w7"
      }
    },
    {
      "cell_type": "markdown",
      "source": [
        "#### Utility functions"
      ],
      "metadata": {
        "id": "0JY9R52sMR17"
      }
    },
    {
      "cell_type": "code",
      "source": [
        "import tiktoken\n",
        "from gpt_implementation import generate_text_simple\n",
        "\n",
        "def text_to_token_ids(text, tokenizer, device=None):\n",
        "\n",
        "    if device is None:\n",
        "        device = torch.device(\"cuda\" if torch.cuda.is_available() else \"cpu\")\n",
        "    encoded = tokenizer.encode(text, allowed_special={'<|endoftext|>'})\n",
        "    encoded_tensor = torch.tensor(encoded).unsqueeze(0).to(device) # add batch dimension\n",
        "    return encoded_tensor\n",
        "\n",
        "def token_ids_to_text(token_ids, tokenizer):\n",
        "    flat = token_ids.squeeze(0) # remove batch dimension\n",
        "    return tokenizer.decode(flat.tolist())\n"
      ],
      "metadata": {
        "id": "YKrNN8RyMWIA"
      },
      "execution_count": null,
      "outputs": []
    },
    {
      "cell_type": "code",
      "source": [
        "# Text into tokens\n",
        "start_context = \"Every effort moves you\"\n",
        "\n",
        "tokenizer = tiktoken.get_encoding(\"gpt2\")\n",
        "\n",
        "token_ids = generate_text_simple(\n",
        "    model=model,\n",
        "    idx=text_to_token_ids(start_context, tokenizer, device=None),\n",
        "    max_new_tokens=10,\n",
        "    context_size=GPT_CONFIG_124M[\"context_length\"]\n",
        ")\n",
        "\n",
        "print(f\"Input text:\\n{start_context}\")\n",
        "print(f\"\\nOutput text:\\n{token_ids_to_text(token_ids, tokenizer)}\")"
      ],
      "metadata": {
        "id": "OssBKAmiWk62",
        "colab": {
          "base_uri": "https://localhost:8080/"
        },
        "outputId": "bb6bc91f-c997-4031-f709-ea580c41af52"
      },
      "execution_count": null,
      "outputs": [
        {
          "output_type": "stream",
          "name": "stdout",
          "text": [
            "Input text:\n",
            "Every effort moves you\n",
            "\n",
            "Output text:\n",
            "Every effort moves you?\"\n",
            "\n",
            "\"Yes--quite insensible to\n"
          ]
        }
      ]
    },
    {
      "cell_type": "code",
      "source": [
        "text_to_token_ids(start_context, tokenizer)"
      ],
      "metadata": {
        "colab": {
          "base_uri": "https://localhost:8080/"
        },
        "id": "_wMBrmO1rxaz",
        "outputId": "3fa61e9b-5f6b-481a-df7c-cb827858a7d0"
      },
      "execution_count": null,
      "outputs": [
        {
          "output_type": "execute_result",
          "data": {
            "text/plain": [
              "tensor([[6109, 3626, 6100,  345]])"
            ]
          },
          "metadata": {},
          "execution_count": 12
        }
      ]
    },
    {
      "cell_type": "code",
      "source": [
        "text1 = \"every effort moves you\"\n",
        "text2 = \"I really like learning\"\n",
        "\n",
        "text1_tokens = text_to_token_ids(text1, tokenizer)\n",
        "text2_tokens = text_to_token_ids(text2, tokenizer)\n",
        "\n",
        "print(text1_tokens)\n",
        "print(text2_tokens)\n",
        "\n",
        "#inputs = torch.cat((text1_tokens, text2_tokens), 0)\n",
        "inputs = torch.tensor([[16833,  3626,  6100],\n",
        "                       [   40,  1107,   588]])\n",
        "print(f\"input tokens:\\n{inputs}\")\n",
        "targets =  torch.tensor([[3626,  6100,   345],\n",
        "                         [1107,   588,  4673]])\n",
        "# output logit\n",
        "with torch.no_grad():\n",
        "    logits = model(inputs)\n",
        "\n",
        "# Probability of each token in vocabulary\n",
        "probas = torch.softmax(logits, dim=-1)\n",
        "\n",
        "print(f\"porbabilitiy scores tensor size:{probas.shape}\")"
      ],
      "metadata": {
        "id": "M-Hj96nNW3ss",
        "colab": {
          "base_uri": "https://localhost:8080/"
        },
        "outputId": "ad1c4ae5-a026-4b0d-e8c4-ee36d204a9af"
      },
      "execution_count": null,
      "outputs": [
        {
          "output_type": "stream",
          "name": "stdout",
          "text": [
            "tensor([[16833,  3626,  6100,   345]])\n",
            "tensor([[  40, 1107,  588, 4673]])\n",
            "input tokens:\n",
            "tensor([[16833,  3626,  6100],\n",
            "        [   40,  1107,   588]])\n",
            "porbabilitiy scores tensor size:torch.Size([2, 3, 50257])\n"
          ]
        }
      ]
    },
    {
      "cell_type": "code",
      "source": [
        "# from probabilitiy to token ids to text\n",
        "token_ids = torch.argmax(probas, dim=-1, keepdim=True)\n",
        "print(\"Token IDs:\\n\", token_ids)"
      ],
      "metadata": {
        "id": "4_xv9Xj-ZC0N",
        "colab": {
          "base_uri": "https://localhost:8080/"
        },
        "outputId": "4f850277-1a6e-4f9e-84bf-f0f04034f585"
      },
      "execution_count": null,
      "outputs": [
        {
          "output_type": "stream",
          "name": "stdout",
          "text": [
            "Token IDs:\n",
            " tensor([[[16657],\n",
            "         [  339],\n",
            "         [42826]],\n",
            "\n",
            "        [[49906],\n",
            "         [29669],\n",
            "         [41751]]])\n"
          ]
        }
      ]
    },
    {
      "cell_type": "code",
      "source": [
        "text_idx = 0\n",
        "target_probas_1 = probas[text_idx, [0, 1, 2], targets[text_idx]]\n",
        "print(\"The 3 target ID probabilities for first batch:\", target_probas_1)\n",
        "\n",
        "text_idx = 1\n",
        "target_probas_2 = probas[text_idx, [0, 1, 2], targets[text_idx]]\n",
        "print(\"The 3 target ID probabilities for second batch:\", target_probas_2)"
      ],
      "metadata": {
        "id": "Tj95nsf20Szr",
        "colab": {
          "base_uri": "https://localhost:8080/"
        },
        "outputId": "f7cb2351-d8ec-4f2c-cd5e-4914b0d70eab"
      },
      "execution_count": null,
      "outputs": [
        {
          "output_type": "stream",
          "name": "stdout",
          "text": [
            "The 3 target ID probabilities for first batch: tensor([    0.0001,     0.0000,     0.0000])\n",
            "The 3 target ID probabilities for second batch: tensor([    0.0000,     0.0001,     0.0000])\n"
          ]
        }
      ]
    },
    {
      "cell_type": "markdown",
      "source": [
        "The GPT-2 vocabulary has 50257 tokens, so most of the initial probabilites will be around 1/50257 = 0.00002"
      ],
      "metadata": {
        "id": "ub5dbFy23qeK"
      }
    },
    {
      "cell_type": "code",
      "source": [
        "text_idx = 0\n",
        "print(targets[text_idx])\n",
        "target_probas_1 = probas[text_idx, [0, 1, 2], targets[text_idx]]\n",
        "print(\"Initial softmax pobability score:\", target_probas_1)\n",
        "\n",
        "text_idx = 1\n",
        "print(targets[text_idx])\n",
        "target_probas_2 = probas[text_idx, [0, 1, 2], targets[text_idx]]\n",
        "print(\"Initial softmax probability score:\", target_probas_2)"
      ],
      "metadata": {
        "id": "iMlhjeFE4I9i",
        "colab": {
          "base_uri": "https://localhost:8080/"
        },
        "outputId": "09a55fe3-dbff-4405-abdd-6dea292cfc07"
      },
      "execution_count": null,
      "outputs": [
        {
          "output_type": "stream",
          "name": "stdout",
          "text": [
            "tensor([3626, 6100,  345])\n",
            "Initial softmax pobability score: tensor([    0.0001,     0.0000,     0.0000])\n",
            "tensor([1107,  588, 4673])\n",
            "Initial softmax probability score: tensor([    0.0000,     0.0001,     0.0000])\n"
          ]
        }
      ]
    },
    {
      "cell_type": "markdown",
      "source": [
        "### Loss Computation"
      ],
      "metadata": {
        "id": "w1v0278vPZmT"
      }
    },
    {
      "cell_type": "markdown",
      "source": [
        "The text evalutaion measures how far the generated tokens are from the targets. The model training aims to increase the softmax probability used in the evaluation metric. Calculating the loss requires\n",
        "\n",
        "1. Logits\n",
        "2. Probabilities\n",
        "3. Target probabilities\n",
        "4. Log probabilities\n",
        "5. Average log probability\n",
        "6. Cross Entropy\n",
        "\n",
        "The goal is to push the average log probabilitiy as close to 0, which is equivalent to bring the negative average log probability down to 0 with training and updating the model weights. Cross entropy computes a mesure for discreate outcomes the true distribution of takens and the token probabilities generated by LLM.\n",
        "\n",
        "Perplexity is exp(cross entropy) signifies the effective vocabulary size obout which the model is uncertain at each step.\n"
      ],
      "metadata": {
        "id": "UpKkTvq7yTBa"
      }
    },
    {
      "cell_type": "code",
      "source": [
        "log_probas = torch.log(torch.cat((target_probas_1, target_probas_2)))\n",
        "\n",
        "print(f\"Log of probabilitiey scores:\\n{log_probas}\")"
      ],
      "metadata": {
        "id": "0BAusmbl3HA_",
        "colab": {
          "base_uri": "https://localhost:8080/"
        },
        "outputId": "5da08798-cfa4-4b36-c2e4-d97043fbc807"
      },
      "execution_count": null,
      "outputs": [
        {
          "output_type": "stream",
          "name": "stdout",
          "text": [
            "Log of probabilitiey scores:\n",
            "tensor([ -9.5042, -10.3796, -11.3677, -11.4798,  -9.7764, -11.6089])\n"
          ]
        }
      ]
    },
    {
      "cell_type": "code",
      "source": [
        "avg_log_probas = torch.mean(log_probas)\n",
        "\n",
        "print(f\"Combine log probabilities into a single score:\\n{avg_log_probas}\")"
      ],
      "metadata": {
        "id": "Ngy-SeQr6Rjz",
        "colab": {
          "base_uri": "https://localhost:8080/"
        },
        "outputId": "ccf762fd-16dd-4f9f-cec1-5481180c2aff"
      },
      "execution_count": null,
      "outputs": [
        {
          "output_type": "stream",
          "name": "stdout",
          "text": [
            "Combine log probabilities into a single score:\n",
            "-10.686089515686035\n"
          ]
        }
      ]
    },
    {
      "cell_type": "code",
      "source": [
        "neg_avg_log_probas = avg_log_probas * -1\n",
        "print(f\"Negative average log probability:\\n{neg_avg_log_probas}\")"
      ],
      "metadata": {
        "id": "VRf1oVa0dvR2",
        "colab": {
          "base_uri": "https://localhost:8080/"
        },
        "outputId": "17b6977d-1a02-4273-be8b-388ffbb26db0"
      },
      "execution_count": null,
      "outputs": [
        {
          "output_type": "stream",
          "name": "stdout",
          "text": [
            "Negative average log probability:\n",
            "10.686089515686035\n"
          ]
        }
      ]
    },
    {
      "cell_type": "code",
      "source": [
        "print(\"Logits shape:\", logits.shape)\n",
        "print(\"Targets shape:\", targets.shape)"
      ],
      "metadata": {
        "id": "tKoUU_wngvda",
        "colab": {
          "base_uri": "https://localhost:8080/"
        },
        "outputId": "496eff64-2187-45a3-8c26-6e1923bce19a"
      },
      "execution_count": null,
      "outputs": [
        {
          "output_type": "stream",
          "name": "stdout",
          "text": [
            "Logits shape: torch.Size([2, 3, 50257])\n",
            "Targets shape: torch.Size([2, 3])\n"
          ]
        }
      ]
    },
    {
      "cell_type": "code",
      "source": [
        "logits_flat = logits.flatten(0, 1)\n",
        "targets_flat = targets.flatten()\n",
        "\n",
        "print(\"Flattened logits:\", logits_flat.shape)\n",
        "print(\"Flattened targets:\", targets_flat.shape)"
      ],
      "metadata": {
        "id": "QVfYGOpuhPtK",
        "colab": {
          "base_uri": "https://localhost:8080/"
        },
        "outputId": "4c1b118a-dc52-46f3-939c-ecaffce8d41d"
      },
      "execution_count": null,
      "outputs": [
        {
          "output_type": "stream",
          "name": "stdout",
          "text": [
            "Flattened logits: torch.Size([6, 50257])\n",
            "Flattened targets: torch.Size([6])\n"
          ]
        }
      ]
    },
    {
      "cell_type": "code",
      "source": [
        "loss = torch.nn.functional.cross_entropy(logits_flat, targets_flat)\n",
        "print(f\"PyTorch cross_entropy:\\n{loss}\")"
      ],
      "metadata": {
        "id": "6dRowZxbh9qz",
        "colab": {
          "base_uri": "https://localhost:8080/"
        },
        "outputId": "598d86ed-6268-4d6a-e303-0e257f2a6d7e"
      },
      "execution_count": null,
      "outputs": [
        {
          "output_type": "stream",
          "name": "stdout",
          "text": [
            "PyTorch cross_entropy:\n",
            "10.686089515686035\n"
          ]
        }
      ]
    },
    {
      "cell_type": "code",
      "source": [
        "perplexity = torch.exp(loss)\n",
        "print(f\"Perplexity of\\n{perplexity}\\nis the number of words in the vocabulary the\\nmodel has being unsure to generate as the next token\")"
      ],
      "metadata": {
        "id": "Ri2ZHvTLilSS",
        "colab": {
          "base_uri": "https://localhost:8080/"
        },
        "outputId": "5cfc6eb7-e580-4faf-d990-c933ed0f3ed7"
      },
      "execution_count": null,
      "outputs": [
        {
          "output_type": "stream",
          "name": "stdout",
          "text": [
            "Perplexity of\n",
            "43743.11328125\n",
            "is the number of words in the vocabulary the\n",
            "model has being unsure to generate as the next token\n"
          ]
        }
      ]
    },
    {
      "cell_type": "markdown",
      "source": [
        "## Training and Validation losses"
      ],
      "metadata": {
        "id": "sV2YtOUmHYT7"
      }
    },
    {
      "cell_type": "markdown",
      "source": [
        "Compute the loss on the training and validation split of the short story \"The Verdict\""
      ],
      "metadata": {
        "id": "MyjeBgtZHtBU"
      }
    },
    {
      "cell_type": "code",
      "source": [
        "import tiktoken\n",
        "import re\n",
        "\n",
        "tokenizer = tiktoken.get_encoding(\"gpt2\")\n",
        "\n",
        "# load the dataset\n",
        "with open(\"the-verdict.txt\", \"r\", encoding=\"utf-8\") as file:\n",
        "  text_data = file.read()\n",
        "\n",
        "total_characters = len(text_data)\n",
        "total_tokens = len(tokenizer.encode(text_data))\n",
        "\n",
        "print(\"Total number of characters:\", total_characters)\n",
        "print(\"Total number of words:\", len(text_data.split()))\n",
        "print(\"Total number of tokens:\", total_tokens)"
      ],
      "metadata": {
        "colab": {
          "base_uri": "https://localhost:8080/"
        },
        "id": "4DO4H_m3ICem",
        "outputId": "579935c5-5b03-4326-fcfd-b8bceb765535"
      },
      "execution_count": null,
      "outputs": [
        {
          "output_type": "stream",
          "name": "stdout",
          "text": [
            "Total number of characters: 20480\n",
            "Total number of words: 3634\n",
            "Total number of tokens: 5146\n"
          ]
        }
      ]
    },
    {
      "cell_type": "code",
      "source": [
        "# divide the data into trainig and validation\n",
        "train_ratio = 0.90\n",
        "split_idx = int(train_ratio * len(text_data))\n",
        "\n",
        "train_data = text_data[:split_idx]\n",
        "val_data = text_data[split_idx:]\n",
        "\n",
        "print(\"length of training data:\",len(train_data))\n",
        "print(\"length of validation data:\",len(val_data))"
      ],
      "metadata": {
        "colab": {
          "base_uri": "https://localhost:8080/"
        },
        "id": "dUM96ZOYI4bx",
        "outputId": "b5a19fba-b7ca-4264-8b87-ea24b6abf3c4"
      },
      "execution_count": null,
      "outputs": [
        {
          "output_type": "stream",
          "name": "stdout",
          "text": [
            "length of training data: 18432\n",
            "length of validation data: 2048\n"
          ]
        }
      ]
    },
    {
      "cell_type": "code",
      "source": [
        "# create training and validation data loaders\n",
        "from torch.utils.data import Dataset, DataLoader\n",
        "import sliding_window_sampling\n",
        "\n",
        "torch.manual_seed(123)\n",
        "\n",
        "train_loader = sliding_window_sampling.dataloader(\n",
        "    train_data,\n",
        "    batch_size=2,\n",
        "    max_length=GPT_CONFIG_124M[\"context_length\"],\n",
        "    stride=GPT_CONFIG_124M[\"context_length\"],\n",
        "    shuffle=True)\n",
        "\n",
        "val_loader = sliding_window_sampling.dataloader(\n",
        "    val_data,\n",
        "    batch_size=2,\n",
        "    max_length=GPT_CONFIG_124M[\"context_length\"],\n",
        "    stride=GPT_CONFIG_124M[\"context_length\"],\n",
        "    shuffle=False)"
      ],
      "metadata": {
        "id": "9zn-iCM8P8z0",
        "colab": {
          "base_uri": "https://localhost:8080/"
        },
        "outputId": "50d8f1aa-c53e-4263-860d-ca1ab724be54"
      },
      "execution_count": null,
      "outputs": [
        {
          "output_type": "stream",
          "name": "stdout",
          "text": [
            "Requirement already satisfied: tiktoken in /usr/local/lib/python3.10/dist-packages (0.6.0)\n",
            "Requirement already satisfied: regex>=2022.1.18 in /usr/local/lib/python3.10/dist-packages (from tiktoken) (2023.12.25)\n",
            "Requirement already satisfied: requests>=2.26.0 in /usr/local/lib/python3.10/dist-packages (from tiktoken) (2.31.0)\n",
            "Requirement already satisfied: charset-normalizer<4,>=2 in /usr/local/lib/python3.10/dist-packages (from requests>=2.26.0->tiktoken) (3.3.2)\n",
            "Requirement already satisfied: idna<4,>=2.5 in /usr/local/lib/python3.10/dist-packages (from requests>=2.26.0->tiktoken) (3.7)\n",
            "Requirement already satisfied: urllib3<3,>=1.21.1 in /usr/local/lib/python3.10/dist-packages (from requests>=2.26.0->tiktoken) (2.0.7)\n",
            "Requirement already satisfied: certifi>=2017.4.17 in /usr/local/lib/python3.10/dist-packages (from requests>=2.26.0->tiktoken) (2024.2.2)\n",
            "tiktoken version: 0.6.0\n",
            "Drive already mounted at /content/drive; to attempt to forcibly remount, call drive.mount(\"/content/drive\", force_remount=True).\n",
            "attention_comp.ipynb      gpt_model.png                  sliding_window_sampling.py  training.ipynb\n",
            "attention_comp.py         \u001b[0m\u001b[01;34m__pycache__\u001b[0m/                   the-verdict.txt\n",
            "gpt_implementation.ipynb  pytorch_wormup.ipynb           token_embedding.ipynb\n",
            "gpt_implementation.py     sliding_window_sampling.ipynb  tokenizing_text.ipynb\n",
            "/content/drive/MyDrive/Colab Notebooks/LLM\n",
            "attention_comp.ipynb      gpt_model.png                  sliding_window_sampling.py  training.ipynb\n",
            "attention_comp.py         \u001b[0m\u001b[01;34m__pycache__\u001b[0m/                   the-verdict.txt\n",
            "gpt_implementation.ipynb  pytorch_wormup.ipynb           token_embedding.ipynb\n",
            "gpt_implementation.py     sliding_window_sampling.ipynb  tokenizing_text.ipynb\n",
            "5146\n",
            "encoded text sample:\n",
            "[40, 367, 2885, 1464, 1807, 3619, 402, 271, 10899, 2138, 257, 7026, 15632, 438, 2016, 257, 922, 5891, 1576, 438, 568, 340, 373, 645, 1049, 5975, 284, 502, 284, 3285, 326, 11, 287, 262, 6001, 286, 465, 13476, 11, 339, 550, 5710, 465, 12036, 11, 6405, 257, 5527, 27075, 11]\n",
            "x: [40, 367, 2885, 1464]\n",
            "y:      [367, 2885, 1464, 1807]\n",
            "[40] ----> 367\n",
            "[40, 367] ----> 2885\n",
            "[40, 367, 2885] ----> 1464\n",
            "[40, 367, 2885, 1464] ----> 1807\n",
            "I ---->  H\n",
            "I H ----> AD\n",
            "I HAD ---->  always\n",
            "I HAD always ---->  thought\n",
            "One batch:\n",
            "[tensor([[  40,  367, 2885, 1464]]), tensor([[ 367, 2885, 1464, 1807]])]\n",
            "[tensor([[ 367, 2885, 1464, 1807]]), tensor([[2885, 1464, 1807, 3619]])]\n",
            "Inputs:\n",
            " tensor([[   40,   367,  2885,  1464],\n",
            "        [ 3619,   402,   271, 10899],\n",
            "        [  257,  7026, 15632,   438],\n",
            "        [  257,   922,  5891,  1576],\n",
            "        [  568,   340,   373,   645],\n",
            "        [ 5975,   284,   502,   284],\n",
            "        [  326,    11,   287,   262],\n",
            "        [  286,   465, 13476,    11]])\n",
            "\n",
            "Targets:\n",
            " tensor([[  367,  2885,  1464,  1807],\n",
            "        [  402,   271, 10899,  2138],\n",
            "        [ 7026, 15632,   438,  2016],\n",
            "        [  922,  5891,  1576,   438],\n",
            "        [  340,   373,   645,  1049],\n",
            "        [  284,   502,   284,  3285],\n",
            "        [   11,   287,   262,  6001],\n",
            "        [  465, 13476,    11,   339]])\n"
          ]
        }
      ]
    },
    {
      "cell_type": "code",
      "source": [
        "print(\"Train loader:\")\n",
        "for x, y in train_loader:\n",
        "    print(x.shape, y.shape)\n",
        "\n",
        "print(\"\\nValidation loader:\")\n",
        "for x, y in val_loader:\n",
        "    print(x.shape, y.shape)"
      ],
      "metadata": {
        "colab": {
          "base_uri": "https://localhost:8080/"
        },
        "id": "FtkjRnrtRTt6",
        "outputId": "1fbf7d9c-df62-4619-cbb7-459ff20848c7"
      },
      "execution_count": null,
      "outputs": [
        {
          "output_type": "stream",
          "name": "stdout",
          "text": [
            "Train loader:\n",
            "torch.Size([2, 256]) torch.Size([2, 256])\n",
            "torch.Size([2, 256]) torch.Size([2, 256])\n",
            "torch.Size([2, 256]) torch.Size([2, 256])\n",
            "torch.Size([2, 256]) torch.Size([2, 256])\n",
            "torch.Size([2, 256]) torch.Size([2, 256])\n",
            "torch.Size([2, 256]) torch.Size([2, 256])\n",
            "torch.Size([2, 256]) torch.Size([2, 256])\n",
            "torch.Size([2, 256]) torch.Size([2, 256])\n",
            "torch.Size([2, 256]) torch.Size([2, 256])\n",
            "\n",
            "Validation loader:\n",
            "torch.Size([2, 256]) torch.Size([2, 256])\n"
          ]
        }
      ]
    },
    {
      "cell_type": "code",
      "source": [
        "def batch_loss(input_batch, target_batch, model, device):\n",
        "  \"\"\" Utility function which calculates the cross entropy loss of a single batch\"\"\"\n",
        "\n",
        "  input_batch, target_batch = input_batch.to(device), target_batch.to(device)\n",
        "\n",
        "  logits = model(input_batch)\n",
        "  loss = torch.nn.functional.cross_entropy(\n",
        "        logits.flatten(0, 1), target_batch.flatten())\n",
        "\n",
        "  return loss"
      ],
      "metadata": {
        "id": "heaNDjszSED8"
      },
      "execution_count": null,
      "outputs": []
    },
    {
      "cell_type": "code",
      "source": [
        "def loader_loss(data_loader, model, device, num_batches=None):\n",
        "  \"\"\" Computes the loss over all the batches in a data loader.\n",
        "      It iterates over all batches in a data loader, but can\n",
        "      speed up the evaluation with a smaller number num_batches. \"\"\"\n",
        "\n",
        "  total_loss = 0.\n",
        "\n",
        "  if num_batches is None:\n",
        "      num_batches = len(data_loader)\n",
        "  else:\n",
        "      num_batches = min(num_batches, len(data_loader))\n",
        "\n",
        "  for i, (input_batch, target_batch) in enumerate(data_loader):\n",
        "      if i < num_batches:\n",
        "          loss = batch_loss(input_batch, target_batch, model, device)\n",
        "          total_loss += loss.item()\n",
        "      else:\n",
        "          break\n",
        "\n",
        "  return total_loss / num_batches"
      ],
      "metadata": {
        "id": "pST7YsOjStmL"
      },
      "execution_count": null,
      "outputs": []
    },
    {
      "cell_type": "code",
      "source": [
        "device = torch.device(\"cuda\" if torch.cuda.is_available() else \"cpu\")\n",
        "model.to(device)\n",
        "\n",
        "train_loss = loader_loss(train_loader, model, device)\n",
        "val_loss = loader_loss(val_loader, model, device)\n",
        "\n",
        "print(\"Training loss:\", train_loss)\n",
        "print(\"Validation loss:\", val_loss)"
      ],
      "metadata": {
        "colab": {
          "base_uri": "https://localhost:8080/"
        },
        "id": "fNZvx9yGUKjy",
        "outputId": "61a4d2a0-db11-4858-88da-98dcc8265da7"
      },
      "execution_count": null,
      "outputs": [
        {
          "output_type": "stream",
          "name": "stdout",
          "text": [
            "Training loss: 10.987583796183268\n",
            "Validation loss: 10.983160018920898\n"
          ]
        }
      ]
    },
    {
      "cell_type": "markdown",
      "source": [
        "Note: The loss values are high beacuse the model has not yet been trained."
      ],
      "metadata": {
        "id": "wvXXYzQvewuq"
      }
    },
    {
      "cell_type": "markdown",
      "source": [
        "## Training"
      ],
      "metadata": {
        "id": "cuN417xVN5gg"
      }
    },
    {
      "cell_type": "markdown",
      "source": [
        "Training consists in iterating over the batches for some number of epochs. For each batch the loss is calculated, loss gradients are computed with backward pass, model weights are updated, the training and validation losses are printed and at the end of each epoch a sample text is generated."
      ],
      "metadata": {
        "id": "fKmoHtnoOLvO"
      }
    },
    {
      "cell_type": "code",
      "source": [
        "def evaluate_model(model, train_loader, val_loader, device, eval_iter):\n",
        "  \"\"\" Function to set the model in evaluation mode, disabling gradient tracking\n",
        "      and dropout, computes training and validation losses for a\n",
        "      specified eval frequency.\"\"\"\n",
        "  model.eval()\n",
        "  with torch.no_grad():\n",
        "      train_loss = loader_loss(train_loader, model, device, num_batches=eval_iter)\n",
        "      val_loss = loader_loss(val_loader, model, device, num_batches=eval_iter)\n",
        "  model.train()\n",
        "  return train_loss, val_loss"
      ],
      "metadata": {
        "id": "ZYSN80pjN-EL"
      },
      "execution_count": null,
      "outputs": []
    },
    {
      "cell_type": "code",
      "source": [
        "def generate_and_print_sample(model, tokenizer, device, start_context):\n",
        "  \"\"\" Function to track if the model improves during training. It takes in\n",
        "      a start_context text, converts it into token IDs and feeds it into\n",
        "      the LLM to generate a text sample using generate_text_simple function.\"\"\"\n",
        "  # turn on evaluation mode\n",
        "  model.eval()\n",
        "  context_size = model.pos_emb.weight.shape[0]\n",
        "  encoded = text_to_token_ids(start_context, tokenizer).to(device)\n",
        "\n",
        "  # a context manager, leaving with block the gradient computation is turned on\n",
        "  with torch.no_grad():\n",
        "      token_ids = generate_text_simple(model=model,\n",
        "                                       idx=encoded,\n",
        "                                       max_new_tokens=50,\n",
        "                                       context_size=context_size)\n",
        "\n",
        "      decoded_text = token_ids_to_text(token_ids, tokenizer)\n",
        "      print(decoded_text.replace(\"\\n\", \" \"))  # Compact print format\n",
        "\n",
        "  # turn off evaluation model: normalization layer uses per batch statistics\n",
        "  # dropout layer is activated\n",
        "  model.train()"
      ],
      "metadata": {
        "id": "3HRl4-zYOGMQ"
      },
      "execution_count": null,
      "outputs": []
    },
    {
      "cell_type": "code",
      "source": [
        "def train_model_simple(model, train_loader, val_loader, optimizer, device, num_epochs,\n",
        "                       eval_freq, eval_iter, start_context):\n",
        "    \"\"\" Function that implements the training flow: iterating over each epoch,\n",
        "        processing batches, resetting and calculating gradients, updating weights,\n",
        "        and monitoring with printing losses and generating text samples. \"\"\"\n",
        "\n",
        "    train_losses, val_losses, track_tokens_seen = [], [], []\n",
        "    tokens_seen, global_step = 0, -1\n",
        "\n",
        "    for epoch in range(num_epochs):\n",
        "        model.train()\n",
        "        for input_batch, target_batch in train_loader:\n",
        "            optimizer.zero_grad()\n",
        "            loss = batch_loss(input_batch, target_batch, model, device)\n",
        "            loss.backward()\n",
        "            optimizer.step()\n",
        "            tokens_seen += input_batch.numel()\n",
        "            global_step += 1\n",
        "\n",
        "            if global_step % eval_freq == 0:\n",
        "                train_loss, val_loss = evaluate_model(\n",
        "                    model, train_loader, val_loader, device, eval_iter)\n",
        "                train_losses.append(train_loss)\n",
        "                val_losses.append(val_loss)\n",
        "                track_tokens_seen.append(tokens_seen)\n",
        "                print(f\"Ep {epoch+1} (Step {global_step:06d}): \"\n",
        "                      f\"Train loss {train_loss:.3f}, Val loss {val_loss:.3f}\")\n",
        "\n",
        "        generate_and_print_sample(\n",
        "            model, train_loader.dataset.tokenizer, device, start_context\n",
        "        )\n",
        "    return train_losses, val_losses, track_tokens_seen"
      ],
      "metadata": {
        "id": "XHW4n2VBOJhN"
      },
      "execution_count": null,
      "outputs": []
    },
    {
      "cell_type": "code",
      "source": [
        "# train the GPTModel instance\n",
        "torch.manual_seed(123)\n",
        "\n",
        "model = GPTModel(GPT_CONFIG_124M)\n",
        "\n",
        "model.to(device)\n",
        "# AdamW optimizer improves the weight decay, penalizes larger weights and\n",
        "# prevents overfitting\n",
        "optimizer = torch.optim.AdamW(model.parameters(), lr=0.0004, weight_decay=0.1)\n",
        "\n",
        "num_epochs = 10\n",
        "\n",
        "train_losses, val_losses, tokens_seen = train_model_simple(\n",
        "    model, train_loader, val_loader, optimizer, device,\n",
        "    num_epochs=num_epochs, eval_freq=5, eval_iter=1,\n",
        "    start_context=\"Every effort moves you\")"
      ],
      "metadata": {
        "colab": {
          "base_uri": "https://localhost:8080/"
        },
        "id": "GS3HDf66J49B",
        "outputId": "a9d797da-dea8-445f-c619-6066f02251c8"
      },
      "execution_count": null,
      "outputs": [
        {
          "output_type": "stream",
          "name": "stdout",
          "text": [
            "Ep 1 (Step 000000): Train loss 10.061, Val loss 9.932\n",
            "Ep 1 (Step 000005): Train loss 8.156, Val loss 8.338\n",
            "Every effort moves you,,,,,,,,,,,,.                                     \n",
            "Ep 2 (Step 000010): Train loss 6.553, Val loss 7.055\n",
            "Ep 2 (Step 000015): Train loss 5.922, Val loss 6.601\n",
            "Every effort moves you, and,, and,,,,,,, and,.                                   \n",
            "Ep 3 (Step 000020): Train loss 5.814, Val loss 6.505\n",
            "Ep 3 (Step 000025): Train loss 5.366, Val loss 6.383\n",
            "Every effort moves you, and to the of the of the of the, and I had. Gis, and, and, and, and, and, and the, and, and, and, and, and, and, and, and, and, and\n",
            "Ep 4 (Step 000030): Train loss 4.609, Val loss 6.287\n",
            "Ep 4 (Step 000035): Train loss 5.019, Val loss 6.297\n",
            "Every effort moves you, I had the of the of the picture to the picture.               \"I\"I had the  \"I the           \n",
            "Ep 5 (Step 000040): Train loss 4.147, Val loss 6.178\n",
            "Every effort moves you know the                                                \n",
            "Ep 6 (Step 000045): Train loss 3.994, Val loss 6.153\n",
            "Ep 6 (Step 000050): Train loss 2.866, Val loss 6.145\n",
            "Every effort moves you know the fact, and pushed one of the to the fact with a little a little to my work, and in fact, and.         \"Oh, and he was, and down the room, and in\n",
            "Ep 7 (Step 000055): Train loss 3.102, Val loss 6.183\n",
            "Ep 7 (Step 000060): Train loss 2.096, Val loss 6.130\n",
            "Every effort moves you know,\" was not that the picture for a smile that he had the last word.        \"I looked. \"--as Jack himself at my elbow and he was a little a--because he was his pictures\n",
            "Ep 8 (Step 000065): Train loss 1.970, Val loss 6.148\n",
            "Ep 8 (Step 000070): Train loss 1.373, Val loss 6.222\n",
            "Every effort moves you?\"  \"Yes--I glanced after him, and uncertain.  \"I looked up at the!  \"I looked up the moment--as Jack himself, as once one had been the donkey. \"There were days when I\n",
            "Ep 9 (Step 000075): Train loss 1.223, Val loss 6.228\n",
            "Ep 9 (Step 000080): Train loss 0.840, Val loss 6.256\n",
            "Every effort moves you?\"  \"Yes--quite insensible to the fact with the last word. He was no great, and in an unusual degree to the display of his close grayish beard--as if he had the donkey. \"There were days when I\n",
            "Ep 10 (Step 000085): Train loss 0.590, Val loss 6.365\n",
            "Every effort moves you?\"  \"Yes--quite insensible to the irony. She wanted him vindicated--and by me!\"  He laughed again, and threw back his head to look up at the sketch of the donkey. \"There were days when I\n"
          ]
        }
      ]
    },
    {
      "cell_type": "code",
      "source": [
        "# visulaize training and validation losses\n",
        "import matplotlib.pyplot as plt\n",
        "\n",
        "def plot_losses(epochs_seen, tokens_seen, train_losses, val_losses):\n",
        "\n",
        "    fig, ax1 = plt.subplots(figsize=(5, 3))\n",
        "\n",
        "    ax1.plot(epochs_seen, train_losses, label=\"Training loss\")\n",
        "    ax1.plot(epochs_seen, val_losses, linestyle=\"-.\", label=\"Validation loss\")\n",
        "    ax1.set_xlabel(\"Epochs\")\n",
        "    ax1.set_ylabel(\"Loss\")\n",
        "    ax1.legend(loc=\"upper right\")\n",
        "    ax2 = ax1.twiny()\n",
        "    ax2.plot(tokens_seen, train_losses, alpha=0)\n",
        "    ax2.set_xlabel(\"Tokens seen\")\n",
        "    fig.tight_layout()\n",
        "\n",
        "    plt.show()\n",
        "\n",
        "epochs_tensor = torch.linspace(0, num_epochs, len(train_losses))\n",
        "plot_losses(epochs_tensor, tokens_seen, train_losses, val_losses)"
      ],
      "metadata": {
        "colab": {
          "base_uri": "https://localhost:8080/",
          "height": 307
        },
        "id": "k2gWMo73OOxP",
        "outputId": "45fea6b0-8a54-4e18-ce37-678463ee1bdf"
      },
      "execution_count": null,
      "outputs": [
        {
          "output_type": "display_data",
          "data": {
            "text/plain": [
              "<Figure size 500x300 with 2 Axes>"
            ],
            "image/png": "[encoded data removed]"
          },
          "metadata": {}
        }
      ]
    },
    {
      "cell_type": "markdown",
      "source": [
        "The  Training and Validation losses start to diverge which means that the model is overfitting.The model memorizes the training data by searching for the generated text like \"quite insensible to the irony\" found in the \"The Verdict\" text. The small training dataset and the multiple epochs lead to model memorization. Sampling methods used by LLMs mitigates it."
      ],
      "metadata": {
        "id": "ZhehtlrDOn3Z"
      }
    },
    {
      "cell_type": "code",
      "source": [
        "# save the model parameters with state_dict mapping each layer to its parameters\n",
        "torch.save(model.state_dict(), \"model.pth\")"
      ],
      "metadata": {
        "id": "dfynnVlfkhyg"
      },
      "execution_count": null,
      "outputs": []
    },
    {
      "cell_type": "code",
      "source": [
        "# save model and the adaptive optimizer AdamW stored additional parameters\n",
        "torch.save({\n",
        "    \"model_state_dict\": model.state_dict(),\n",
        "    \"optimizer_state_dict\": optimizer.state_dict(),\n",
        "    },\n",
        "    \"model_and_optimizer.pth\"\n",
        ")"
      ],
      "metadata": {
        "id": "h4IIbgBaiLRz"
      },
      "execution_count": null,
      "outputs": []
    },
    {
      "cell_type": "code",
      "source": [
        "# to restore the model need to load the saved params and the use load_state_dict\n",
        "checkpoint = torch.load(\"model_and_optimizer.pth\")\n",
        "model = GPTModel(GPT_CONFIG_124M)\n",
        "model.load_state_dict(checkpoint[\"model_state_dict\"])\n",
        "optimizer = torch.optim.AdamW(model.parameters(), lr=5e-4, weight_decay=0.1)\n",
        "optimizer.load_state_dict(checkpoint[\"optimizer_state_dict\"])\n",
        "model.train()"
      ],
      "metadata": {
        "id": "YQbLYhCXjXBK"
      },
      "execution_count": null,
      "outputs": []
    }
  ]
}