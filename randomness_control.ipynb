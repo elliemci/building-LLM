{
  "nbformat": 4,
  "nbformat_minor": 0,
  "metadata": {
    "colab": {
      "provenance": [],
      "authorship_tag": "ABX9TyMcCwMU/Z/ZL0eLhB58li1l",
      "include_colab_link": true
    },
    "kernelspec": {
      "name": "python3",
      "display_name": "Python 3"
    },
    "language_info": {
      "name": "python"
    }
  },
  "cells": [
    {
      "cell_type": "markdown",
      "metadata": {
        "id": "view-in-github",
        "colab_type": "text"
      },
      "source": [
        "<a href=\"https://colab.research.google.com/github/elliemci/building-LLM/blob/main/randomness_control.ipynb\" target=\"_parent\"><img src=\"https://colab.research.google.com/assets/colab-badge.svg\" alt=\"Open In Colab\"/></a>"
      ]
    },
    {
      "cell_type": "code",
      "source": [
        "# Text Generation Randomness Control"
      ],
      "metadata": {
        "id": "cUkirbf0dlgu"
      },
      "execution_count": null,
      "outputs": []
    },
    {
      "cell_type": "markdown",
      "source": [
        "This notebook contains examples of  two concepts used to control the randomneess and diversity of the model generated."
      ],
      "metadata": {
        "id": "fabz2ioJfLIE"
      }
    },
    {
      "cell_type": "markdown",
      "source": [
        "## Text Generation Strategies"
      ],
      "metadata": {
        "id": "G5zEqrHknTeI"
      }
    },
    {
      "cell_type": "markdown",
      "source": [
        "The LLMs generate text one token at a time. The default way called next token is generated is by converting the model output into probability.  scores and selecting the token from the vocabulary that corresponds to the highest probability score"
      ],
      "metadata": {
        "id": "N01QFlmVd-ox"
      }
    },
    {
      "cell_type": "code",
      "execution_count": null,
      "metadata": {
        "id": "CP0a6cPrmzxv",
        "colab": {
          "base_uri": "https://localhost:8080/"
        },
        "outputId": "aa8862ed-87c7-4140-fa1e-25be843eae7b"
      },
      "outputs": [
        {
          "output_type": "stream",
          "name": "stdout",
          "text": [
            "Drive already mounted at /content/drive; to attempt to forcibly remount, call drive.mount(\"/content/drive\", force_remount=True).\n"
          ]
        }
      ],
      "source": [
        "from google.colab import drive\n",
        "drive.mount(\"/content/drive\")"
      ]
    },
    {
      "cell_type": "code",
      "source": [
        "%cd /content/drive/MyDrive/Colab\\ Notebooks/LLM\n",
        "%ls"
      ],
      "metadata": {
        "id": "WYXP6tS0nyC5",
        "colab": {
          "base_uri": "https://localhost:8080/"
        },
        "outputId": "5fb5cb73-b3db-4c71-c0e7-148f93f6b6ed"
      },
      "execution_count": null,
      "outputs": [
        {
          "output_type": "stream",
          "name": "stdout",
          "text": [
            "/content/drive/MyDrive/Colab Notebooks/LLM\n",
            "attention_comp.ipynb      \u001b[0m\u001b[01;34m__pycache__\u001b[0m/                   token_embedding.ipynb\n",
            "attention_comp.py         pytorch_wormup.ipynb           tokenizing_text.ipynb\n",
            "gpt_implementation.ipynb  randomness_control.ipynb       training.ipynb\n",
            "gpt_implementation.py     sliding_window_sampling.ipynb  training.py\n",
            "gpt_model.png             sliding_window_sampling.py\n",
            "model.pth                 the-verdict.txt\n"
          ]
        }
      ]
    },
    {
      "cell_type": "code",
      "source": [
        "!pip install tiktoken"
      ],
      "metadata": {
        "colab": {
          "base_uri": "https://localhost:8080/"
        },
        "id": "Bg7MlZUIU05D",
        "outputId": "7a88abf1-5af4-4d29-8eb4-be31ad449f58"
      },
      "execution_count": null,
      "outputs": [
        {
          "output_type": "stream",
          "name": "stdout",
          "text": [
            "Collecting tiktoken\n",
            "  Downloading tiktoken-0.6.0-cp310-cp310-manylinux_2_17_x86_64.manylinux2014_x86_64.whl (1.8 MB)\n",
            "\u001b[2K     \u001b[90m━━━━━━━━━━━━━━━━━━━━━━━━━━━━━━━━━━━━━━━━\u001b[0m \u001b[32m1.8/1.8 MB\u001b[0m \u001b[31m11.3 MB/s\u001b[0m eta \u001b[36m0:00:00\u001b[0m\n",
            "\u001b[?25hRequirement already satisfied: regex>=2022.1.18 in /usr/local/lib/python3.10/dist-packages (from tiktoken) (2023.12.25)\n",
            "Requirement already satisfied: requests>=2.26.0 in /usr/local/lib/python3.10/dist-packages (from tiktoken) (2.31.0)\n",
            "Requirement already satisfied: charset-normalizer<4,>=2 in /usr/local/lib/python3.10/dist-packages (from requests>=2.26.0->tiktoken) (3.3.2)\n",
            "Requirement already satisfied: idna<4,>=2.5 in /usr/local/lib/python3.10/dist-packages (from requests>=2.26.0->tiktoken) (3.7)\n",
            "Requirement already satisfied: urllib3<3,>=1.21.1 in /usr/local/lib/python3.10/dist-packages (from requests>=2.26.0->tiktoken) (2.0.7)\n",
            "Requirement already satisfied: certifi>=2017.4.17 in /usr/local/lib/python3.10/dist-packages (from requests>=2.26.0->tiktoken) (2024.2.2)\n",
            "Installing collected packages: tiktoken\n",
            "Successfully installed tiktoken-0.6.0\n"
          ]
        }
      ]
    },
    {
      "cell_type": "code",
      "source": [
        "! jupyter nbconvert --to python training.ipynb"
      ],
      "metadata": {
        "colab": {
          "base_uri": "https://localhost:8080/"
        },
        "id": "0Njv9u_iahOR",
        "outputId": "2ee6e944-5831-4bb5-88d1-ebcb14b1273e"
      },
      "execution_count": null,
      "outputs": [
        {
          "output_type": "stream",
          "name": "stdout",
          "text": [
            "[NbConvertApp] Converting notebook training.ipynb to python\n",
            "[NbConvertApp] Writing 13716 bytes to training.py\n"
          ]
        }
      ]
    },
    {
      "cell_type": "code",
      "source": [
        "import torch\n",
        "import tiktoken\n",
        "\n",
        "from gpt_implementation import GPTModel, generate_text_simple\n",
        "\n",
        "GPT_CONFIG_124M = {\n",
        "    \"vocab_size\": 50257,\n",
        "    \"context_length\": 256,\n",
        "    \"emb_dim\": 768,\n",
        "    \"n_heads\": 12,\n",
        "    \"n_layers\": 12,\n",
        "    \"drop_rate\": 0.1,\n",
        "    \"qkv_bias\": False}\n",
        "\n",
        "torch.manual_seed(123)\n",
        "\n",
        "model = GPTModel(GPT_CONFIG_124M)\n",
        "# load the model weights into a new instance\n",
        "model.load_state_dict(torch.load(\"model.pth\", map_location=torch.device('cpu')))\n",
        "# for inferance disable dropout layer\n",
        "model.eval()"
      ],
      "metadata": {
        "id": "fT7lGZSUoLcn"
      },
      "execution_count": null,
      "outputs": []
    },
    {
      "cell_type": "markdown",
      "source": [
        "## Temperature Scaling"
      ],
      "metadata": {
        "id": "HmspUiZVnmg7"
      }
    },
    {
      "cell_type": "markdown",
      "source": [
        "Temperature Scaling adds a probabilistic selection process to the next token generation task. Probabilistic sampling can be achived replacing torch.argmax with multinomial sampling of the probibility scores the LLM generates for each vocabulary entry at each token generation step."
      ],
      "metadata": {
        "id": "qC7wC6h8swPD"
      }
    },
    {
      "cell_type": "code",
      "source": [
        "# next token generation process example with a small vocabulary;\n",
        "# apply this vocabulary to convert new text into token IDs\n",
        "vocab = { \"closer\": 0,\n",
        "          \"every\": 1,\n",
        "          \"effort\": 2,\n",
        "          \"forward\": 3,\n",
        "          \"inches\": 4,\n",
        "          \"moves\": 5,\n",
        "          \"pizza\": 6,\n",
        "          \"toward\": 7,\n",
        "          \"you\": 8}\n",
        "\n",
        "inverse_vocab = {v: k for k, v in vocab.items()}"
      ],
      "metadata": {
        "id": "-6eE7DETtKY0"
      },
      "execution_count": null,
      "outputs": []
    },
    {
      "cell_type": "code",
      "source": [
        "inverse_vocab"
      ],
      "metadata": {
        "colab": {
          "base_uri": "https://localhost:8080/"
        },
        "id": "1MnbF1zvYeCB",
        "outputId": "388be27d-2477-4036-844e-1ae9610363e2"
      },
      "execution_count": null,
      "outputs": [
        {
          "output_type": "execute_result",
          "data": {
            "text/plain": [
              "{0: 'closer',\n",
              " 1: 'every',\n",
              " 2: 'effort',\n",
              " 3: 'forward',\n",
              " 4: 'inches',\n",
              " 5: 'moves',\n",
              " 6: 'pizza',\n",
              " 7: 'toward',\n",
              " 8: 'you'}"
            ]
          },
          "metadata": {},
          "execution_count": 22
        }
      ]
    },
    {
      "cell_type": "code",
      "source": [
        "# !!!!!!!!!!!! compute next token logits !!!!!!!!!\n",
        "next_token_logits = torch.tensor(\n",
        "    [4.51, 0.89, -1.90, 6.75, 1.63, -1.62, -1.89, 6.28, 1.79]\n",
        ")"
      ],
      "metadata": {
        "id": "upxxZk6zvqt7"
      },
      "execution_count": null,
      "outputs": []
    },
    {
      "cell_type": "code",
      "source": [
        "probas = torch.softmax(next_token_logits, dim=0)\n",
        "next_token_id = torch.argmax(probas).item()\n",
        "\n",
        "print(inverse_vocab[next_token_id])"
      ],
      "metadata": {
        "id": "0v6ebbVhvqlJ",
        "colab": {
          "base_uri": "https://localhost:8080/"
        },
        "outputId": "ebfabeea-921d-4a2a-dfb3-a29919cbe2d3"
      },
      "execution_count": null,
      "outputs": [
        {
          "output_type": "stream",
          "name": "stdout",
          "text": [
            "forward\n"
          ]
        }
      ]
    },
    {
      "cell_type": "markdown",
      "source": [
        "The multinomial function samples the next token proportional to its probability score"
      ],
      "metadata": {
        "id": "7eyMzgK8wkWF"
      }
    },
    {
      "cell_type": "code",
      "source": [
        "torch.manual_seed(123)\n",
        "next_token_id = torch.multinomial(probas, num_samples=1).item()\n",
        "\n",
        "print(inverse_vocab[next_token_id])"
      ],
      "metadata": {
        "id": "yxp0dYZEvqUj",
        "colab": {
          "base_uri": "https://localhost:8080/"
        },
        "outputId": "e88607b2-d988-4e20-ca18-83518597d9e3"
      },
      "execution_count": null,
      "outputs": [
        {
          "output_type": "stream",
          "name": "stdout",
          "text": [
            "toward\n"
          ]
        }
      ]
    },
    {
      "cell_type": "code",
      "source": [
        "def print_sampled_tokens(probas, n_sampling):\n",
        "  \"\"\" Function to print the sampling frequencies of the multinomial sampling that\n",
        "      repeats n_sampling\"\"\"\n",
        "  torch.manual_seed(123)\n",
        "  sample = [torch.multinomial(probas, num_samples=1).item() for i in range(n_sampling)]\n",
        "  sampled_ids = torch.bincount(torch.tensor(sample))\n",
        "  for i, freq in enumerate(sampled_ids):\n",
        "      print(f\"{freq} x {inverse_vocab[i]}\")\n",
        "\n",
        "print_sampled_tokens(probas, 1000)"
      ],
      "metadata": {
        "id": "Kje9BIE7w3le",
        "colab": {
          "base_uri": "https://localhost:8080/"
        },
        "outputId": "f7079e1f-3a33-4a8f-e5e9-3bae12b233e8"
      },
      "execution_count": null,
      "outputs": [
        {
          "output_type": "stream",
          "name": "stdout",
          "text": [
            "71 x closer\n",
            "2 x every\n",
            "0 x effort\n",
            "544 x forward\n",
            "2 x inches\n",
            "1 x moves\n",
            "0 x pizza\n",
            "376 x toward\n",
            "4 x you\n"
          ]
        }
      ]
    },
    {
      "cell_type": "code",
      "source": [
        "def softmax_with_temperature(logits, temperature):\n",
        "  \"\"\" Funtion to control the distribution and selection with tempreture scaling,\n",
        "      dividing the logits by tempreture, where temperature of 1 coresponds to\n",
        "      unscaled probabilities scores of each token in the vocabulary, decreasing\n",
        "      the teprature 0 < tempreture < 1 sharpens the distributions, and increasing\n",
        "      the tempreture, 1 < tempreture makes the distribution more uniform. \"\"\"\n",
        "\n",
        "  scaled_logits = logits / temperature\n",
        "  return torch.softmax(scaled_logits, dim=0)"
      ],
      "metadata": {
        "id": "_c0D2grexbKJ"
      },
      "execution_count": null,
      "outputs": []
    },
    {
      "cell_type": "code",
      "source": [
        "import matplotlib.pyplot as plt\n",
        "\n",
        "# plot probabilities with different temperature values\n",
        "temperatures = [1, 0.1, 5]  # Original, higher, and lower temperature\n",
        "\n",
        "scaled_probas = [softmax_with_temperature(next_token_logits, T) for T in temperatures]\n",
        "\n",
        "x = torch.arange(len(vocab))\n",
        "bar_width = 0.15\n",
        "fig, ax = plt.subplots(figsize=(5, 3))\n",
        "for i, T in enumerate(temperatures):\n",
        "    rects = ax.bar(x + i * bar_width, scaled_probas[i],\n",
        "                   bar_width, label=f'Temperature = {T}')\n",
        "ax.set_ylabel('Probability')\n",
        "ax.set_xticks(x)\n",
        "ax.set_xticklabels(vocab.keys(), rotation=90)\n",
        "ax.legend()\n",
        "plt.tight_layout()\n",
        "plt.show()"
      ],
      "metadata": {
        "id": "XkEgDbG6ye2j",
        "colab": {
          "base_uri": "https://localhost:8080/",
          "height": 307
        },
        "outputId": "528afe6a-2ba7-4e68-ccba-4a22dbdca690"
      },
      "execution_count": null,
      "outputs": [
        {
          "output_type": "display_data",
          "data": {
            "text/plain": [
              "<Figure size 500x300 with 1 Axes>"
            ],
            "image/png": "[encoded data removed]"
          },
          "metadata": {}
        }
      ]
    },
    {
      "cell_type": "markdown",
      "source": [
        "## Top-k sampling"
      ],
      "metadata": {
        "id": "Kd1hdwPGnqMM"
      }
    },
    {
      "cell_type": "markdown",
      "source": [
        "Using top-k sampling focus on the k tokens associated with the highest logits and mask out the other tokens with negative infinity before applying the softmax function, which results in a probability distribution with a probability oflue of 0 assgned to all non-top-k tokens"
      ],
      "metadata": {
        "id": "CnWetjMUSPkr"
      }
    },
    {
      "cell_type": "code",
      "source": [
        "top_k = 3\n",
        "top_logits, top_pos = torch.topk(next_token_logits, top_k)\n",
        "\n",
        "print(\"Top logits:\", top_logits)\n",
        "print(\"Top positions:\", top_pos)"
      ],
      "metadata": {
        "colab": {
          "base_uri": "https://localhost:8080/"
        },
        "id": "tTOIZR94QqL3",
        "outputId": "2ccf84ab-687f-4f45-ff36-dd678c3cff01"
      },
      "execution_count": null,
      "outputs": [
        {
          "output_type": "stream",
          "name": "stdout",
          "text": [
            "Top logits: tensor([6.7500, 6.2800, 4.5100])\n",
            "Top positions: tensor([3, 7, 0])\n"
          ]
        }
      ]
    },
    {
      "cell_type": "code",
      "source": [
        "new_logits = torch.where(\n",
        "    condition=next_token_logits < top_logits[-1],\n",
        "    input=torch.tensor(float('-inf')),\n",
        "    other=next_token_logits\n",
        ")\n",
        "print(f\"the top 3 logits, with th erest masked as -inf:\\n{new_logits}\")"
      ],
      "metadata": {
        "colab": {
          "base_uri": "https://localhost:8080/"
        },
        "id": "9oDZzMBAQ4vb",
        "outputId": "3e50d808-cd1b-4a83-bf58-db3da5eeb45e"
      },
      "execution_count": null,
      "outputs": [
        {
          "output_type": "stream",
          "name": "stdout",
          "text": [
            "the top 3 logits, with th erest masked as -inf:\n",
            "tensor([4.5100,   -inf,   -inf, 6.7500,   -inf,   -inf,   -inf, 6.2800,   -inf])\n"
          ]
        }
      ]
    },
    {
      "cell_type": "code",
      "source": [
        "# turn logits into probabilities\n",
        "topk_probas = torch.softmax(new_logits, dim=0)\n",
        "print(f\"logits into probabilities:\\n{topk_probas}\")"
      ],
      "metadata": {
        "colab": {
          "base_uri": "https://localhost:8080/"
        },
        "id": "wJ-vV9fqRMqK",
        "outputId": "9998d33b-3e5f-46d1-be87-d591217f8e05"
      },
      "execution_count": null,
      "outputs": [
        {
          "output_type": "stream",
          "name": "stdout",
          "text": [
            "logits into probabilities:\n",
            "tensor([0.0615, 0.0000, 0.0000, 0.5775, 0.0000, 0.0000, 0.0000, 0.3610, 0.0000])\n"
          ]
        }
      ]
    },
    {
      "cell_type": "code",
      "source": [
        "temperatures = [1, 0.1, 5]  # Original, higher, and lower temperature\n",
        "\n",
        "scaled_probas = [softmax_with_temperature(topk_probas, T) for T in temperatures]\n",
        "\n",
        "x = torch.arange(len(vocab))\n",
        "bar_width = 0.15\n",
        "fig, ax = plt.subplots(figsize=(5, 3))\n",
        "for i, T in enumerate(temperatures):\n",
        "    rects = ax.bar(x + i * bar_width, scaled_probas[i],\n",
        "                   bar_width, label=f'Temperature = {T}')\n",
        "ax.set_ylabel('Probability')\n",
        "ax.set_xticks(x)\n",
        "ax.set_xticklabels(vocab.keys(), rotation=90)\n",
        "ax.legend()\n",
        "plt.tight_layout()\n",
        "plt.show()"
      ],
      "metadata": {
        "colab": {
          "base_uri": "https://localhost:8080/",
          "height": 307
        },
        "id": "WOEslaBMRrRN",
        "outputId": "53c146a0-c917-4308-f5cd-5235054a45e0"
      },
      "execution_count": null,
      "outputs": [
        {
          "output_type": "display_data",
          "data": {
            "text/plain": [
              "<Figure size 500x300 with 1 Axes>"
            ],
            "image/png": "[encoded data removed]"
          },
          "metadata": {}
        }
      ]
    },
    {
      "cell_type": "markdown",
      "source": [
        "## Generate Text with more diversity"
      ],
      "metadata": {
        "id": "tNwtzCF0S2xf"
      }
    },
    {
      "cell_type": "markdown",
      "source": [
        "Combine temperature sampling and top-k sampling to increase the diversity of LLM generated text"
      ],
      "metadata": {
        "id": "0EcN4NzwUOLV"
      }
    },
    {
      "cell_type": "code",
      "source": [
        "def generate(model, idx, max_new_tokens, context_size, temperature, top_k=None):\n",
        "    \"\"\" Combine teperature scaling and top-k sampling to generate new text,\n",
        "        intead of memorizing one. \"\"\"\n",
        "    for _ in range(max_new_tokens):\n",
        "        idx_cond = idx[:, -context_size:]\n",
        "        with torch.no_grad():\n",
        "            logits = model(idx_cond)\n",
        "        logits = logits[:, -1, :]\n",
        "        if top_k is not None:\n",
        "            top_logits, _ = torch.topk(logits, top_k)\n",
        "            min_val = top_logits[:, -1]\n",
        "            logits = torch.where(\n",
        "                logits < min_val,\n",
        "                torch.tensor(float('-inf')).to(logits.device),\n",
        "                logits\n",
        "            )\n",
        "        if temperature > 0.0:\n",
        "            logits = logits / temperature\n",
        "            probs = torch.softmax(logits, dim=-1)\n",
        "            idx_next = torch.multinomial(probs, num_samples=1)\n",
        "        else:\n",
        "            idx_next = torch.argmax(logits, dim=-1, keepdim=True)\n",
        "        idx = torch.cat((idx, idx_next), dim=1)\n",
        "    return idx"
      ],
      "metadata": {
        "id": "PLrol0KHS8S2"
      },
      "execution_count": null,
      "outputs": []
    },
    {
      "cell_type": "code",
      "source": [
        "torch.manual_seed(123)\n",
        "\n",
        "token_ids = generate(\n",
        "    model=model,\n",
        "    idx=text_to_token_ids(\"Every effort moves you\", tokenizer),\n",
        "    max_new_tokens=15,\n",
        "    context_size=GPT_CONFIG_124M[\"context_length\"],\n",
        "    top_k=25,\n",
        "    temperature=1.4\n",
        ")\n",
        "print(\"Output text:\\n\", token_ids_to_text(token_ids, tokenizer))"
      ],
      "metadata": {
        "colab": {
          "base_uri": "https://localhost:8080/"
        },
        "id": "7XOEy8wkTDaB",
        "outputId": "3203cd95-0630-402b-c217-a30e0ccef603"
      },
      "execution_count": null,
      "outputs": [
        {
          "output_type": "stream",
          "name": "stdout",
          "text": [
            "Output text:\n",
            " Every effort moves you know began to happen a little wild--I was such not to face enough\n"
          ]
        }
      ]
    }
  ]
}